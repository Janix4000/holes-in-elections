{
 "cells": [
  {
   "cell_type": "code",
   "execution_count": 3,
   "metadata": {},
   "outputs": [],
   "source": [
    "import matplotlib.pyplot as plt\n",
    "import numpy as np\n",
    "import pandas as pd\n",
    "import os\n",
    "import plotly.express as px\n",
    "import plotly.graph_objects as go"
   ]
  },
  {
   "cell_type": "code",
   "execution_count": 4,
   "metadata": {},
   "outputs": [
    {
     "name": "stdout",
     "output_type": "stream",
     "text": [
      "No report.csv in results/heuristic_to_change_next_reference_metric/30x60/noise/basin_hopping\n",
      "No report.csv in results/heuristic_to_change_next_reference_metric/30x60/truncated_urn/basin_hopping\n"
     ]
    }
   ],
   "source": [
    "families = ['noise', 'truncated_urn', 'euclidean', 'resampling']\n",
    "algos = ['basin_hopping_step', 'basin_hopping', 'greedy_dp', 'pairs']\n",
    "num_trials = 10\n",
    "\n",
    "res_dir = os.path.join('results', 'heuristic_to_change_next_reference_metric', '30x60')\n",
    "\n",
    "reports = []\n",
    "\n",
    "for family in families:\n",
    "    for algo in algos:\n",
    "        directory = os.path.join(res_dir, family, algo)\n",
    "        try:\n",
    "            report = pd.read_csv(os.path.join(directory, 'report.csv'))\n",
    "            report['family'] = family  \n",
    "            report['algo'] = algo\n",
    "            reports.append(report)\n",
    "        except:\n",
    "            print('No report.csv in', directory)\n",
    "        "
   ]
  },
  {
   "cell_type": "code",
   "execution_count": 5,
   "metadata": {},
   "outputs": [],
   "source": [
    "report = pd.concat(reports)"
   ]
  },
  {
   "cell_type": "code",
   "execution_count": 56,
   "metadata": {},
   "outputs": [
    {
     "data": {
      "text/html": [
       "<div>\n",
       "<style scoped>\n",
       "    .dataframe tbody tr th:only-of-type {\n",
       "        vertical-align: middle;\n",
       "    }\n",
       "\n",
       "    .dataframe tbody tr th {\n",
       "        vertical-align: top;\n",
       "    }\n",
       "\n",
       "    .dataframe thead th {\n",
       "        text-align: right;\n",
       "    }\n",
       "</style>\n",
       "<table border=\"1\" class=\"dataframe\">\n",
       "  <thead>\n",
       "    <tr style=\"text-align: right;\">\n",
       "      <th></th>\n",
       "      <th>i_generated</th>\n",
       "      <th>distance</th>\n",
       "      <th>reference_distance</th>\n",
       "      <th>i_heuristic</th>\n",
       "      <th>i_trial</th>\n",
       "      <th>dt</th>\n",
       "      <th>algorithm</th>\n",
       "      <th>family</th>\n",
       "      <th>algo</th>\n",
       "    </tr>\n",
       "  </thead>\n",
       "  <tbody>\n",
       "    <tr>\n",
       "      <th>1</th>\n",
       "      <td>0</td>\n",
       "      <td>265</td>\n",
       "      <td>392</td>\n",
       "      <td>0</td>\n",
       "      <td>0</td>\n",
       "      <td>3.863435</td>\n",
       "      <td>heuristic</td>\n",
       "      <td>noise</td>\n",
       "      <td>basin_hopping_step</td>\n",
       "    </tr>\n",
       "    <tr>\n",
       "      <th>2</th>\n",
       "      <td>0</td>\n",
       "      <td>265</td>\n",
       "      <td>392</td>\n",
       "      <td>0</td>\n",
       "      <td>1</td>\n",
       "      <td>4.624301</td>\n",
       "      <td>heuristic</td>\n",
       "      <td>noise</td>\n",
       "      <td>basin_hopping_step</td>\n",
       "    </tr>\n",
       "    <tr>\n",
       "      <th>3</th>\n",
       "      <td>0</td>\n",
       "      <td>265</td>\n",
       "      <td>392</td>\n",
       "      <td>0</td>\n",
       "      <td>2</td>\n",
       "      <td>4.689702</td>\n",
       "      <td>heuristic</td>\n",
       "      <td>noise</td>\n",
       "      <td>basin_hopping_step</td>\n",
       "    </tr>\n",
       "    <tr>\n",
       "      <th>4</th>\n",
       "      <td>0</td>\n",
       "      <td>262</td>\n",
       "      <td>392</td>\n",
       "      <td>0</td>\n",
       "      <td>3</td>\n",
       "      <td>4.711662</td>\n",
       "      <td>heuristic</td>\n",
       "      <td>noise</td>\n",
       "      <td>basin_hopping_step</td>\n",
       "    </tr>\n",
       "    <tr>\n",
       "      <th>5</th>\n",
       "      <td>0</td>\n",
       "      <td>265</td>\n",
       "      <td>392</td>\n",
       "      <td>0</td>\n",
       "      <td>4</td>\n",
       "      <td>3.844958</td>\n",
       "      <td>heuristic</td>\n",
       "      <td>noise</td>\n",
       "      <td>basin_hopping_step</td>\n",
       "    </tr>\n",
       "    <tr>\n",
       "      <th>...</th>\n",
       "      <td>...</td>\n",
       "      <td>...</td>\n",
       "      <td>...</td>\n",
       "      <td>...</td>\n",
       "      <td>...</td>\n",
       "      <td>...</td>\n",
       "      <td>...</td>\n",
       "      <td>...</td>\n",
       "      <td>...</td>\n",
       "    </tr>\n",
       "    <tr>\n",
       "      <th>1583</th>\n",
       "      <td>7</td>\n",
       "      <td>106</td>\n",
       "      <td>324</td>\n",
       "      <td>115</td>\n",
       "      <td>9</td>\n",
       "      <td>93.764555</td>\n",
       "      <td>heuristic</td>\n",
       "      <td>resampling</td>\n",
       "      <td>pairs</td>\n",
       "    </tr>\n",
       "    <tr>\n",
       "      <th>1584</th>\n",
       "      <td>7</td>\n",
       "      <td>81</td>\n",
       "      <td>324</td>\n",
       "      <td>116</td>\n",
       "      <td>9</td>\n",
       "      <td>96.561834</td>\n",
       "      <td>heuristic</td>\n",
       "      <td>resampling</td>\n",
       "      <td>pairs</td>\n",
       "    </tr>\n",
       "    <tr>\n",
       "      <th>1585</th>\n",
       "      <td>7</td>\n",
       "      <td>55</td>\n",
       "      <td>324</td>\n",
       "      <td>117</td>\n",
       "      <td>9</td>\n",
       "      <td>101.178422</td>\n",
       "      <td>heuristic</td>\n",
       "      <td>resampling</td>\n",
       "      <td>pairs</td>\n",
       "    </tr>\n",
       "    <tr>\n",
       "      <th>1586</th>\n",
       "      <td>7</td>\n",
       "      <td>55</td>\n",
       "      <td>324</td>\n",
       "      <td>118</td>\n",
       "      <td>9</td>\n",
       "      <td>95.819654</td>\n",
       "      <td>heuristic</td>\n",
       "      <td>resampling</td>\n",
       "      <td>pairs</td>\n",
       "    </tr>\n",
       "    <tr>\n",
       "      <th>1587</th>\n",
       "      <td>7</td>\n",
       "      <td>140</td>\n",
       "      <td>324</td>\n",
       "      <td>119</td>\n",
       "      <td>9</td>\n",
       "      <td>99.865376</td>\n",
       "      <td>heuristic</td>\n",
       "      <td>resampling</td>\n",
       "      <td>pairs</td>\n",
       "    </tr>\n",
       "  </tbody>\n",
       "</table>\n",
       "<p>10235 rows × 9 columns</p>\n",
       "</div>"
      ],
      "text/plain": [
       "      i_generated  distance  reference_distance  i_heuristic  i_trial  \\\n",
       "1               0       265                 392            0        0   \n",
       "2               0       265                 392            0        1   \n",
       "3               0       265                 392            0        2   \n",
       "4               0       262                 392            0        3   \n",
       "5               0       265                 392            0        4   \n",
       "...           ...       ...                 ...          ...      ...   \n",
       "1583            7       106                 324          115        9   \n",
       "1584            7        81                 324          116        9   \n",
       "1585            7        55                 324          117        9   \n",
       "1586            7        55                 324          118        9   \n",
       "1587            7       140                 324          119        9   \n",
       "\n",
       "              dt  algorithm      family                algo  \n",
       "1       3.863435  heuristic       noise  basin_hopping_step  \n",
       "2       4.624301  heuristic       noise  basin_hopping_step  \n",
       "3       4.689702  heuristic       noise  basin_hopping_step  \n",
       "4       4.711662  heuristic       noise  basin_hopping_step  \n",
       "5       3.844958  heuristic       noise  basin_hopping_step  \n",
       "...          ...        ...         ...                 ...  \n",
       "1583   93.764555  heuristic  resampling               pairs  \n",
       "1584   96.561834  heuristic  resampling               pairs  \n",
       "1585  101.178422  heuristic  resampling               pairs  \n",
       "1586   95.819654  heuristic  resampling               pairs  \n",
       "1587   99.865376  heuristic  resampling               pairs  \n",
       "\n",
       "[10235 rows x 9 columns]"
      ]
     },
     "execution_count": 56,
     "metadata": {},
     "output_type": "execute_result"
    }
   ],
   "source": [
    "df"
   ]
  },
  {
   "cell_type": "code",
   "execution_count": 85,
   "metadata": {},
   "outputs": [
    {
     "name": "stdout",
     "output_type": "stream",
     "text": [
      "No data for noise basin_hopping\n",
      "No data for truncated_urn basin_hopping\n"
     ]
    },
    {
     "data": {
      "image/png": "[encoded data removed]",
      "text/plain": [
       "<Figure size 1400x1400 with 4 Axes>"
      ]
     },
     "metadata": {
      "needs_background": "light"
     },
     "output_type": "display_data"
    }
   ],
   "source": [
    "family_name = {\n",
    "    'noise': 'Noise',\n",
    "    'truncated_urn': 'Truncated urn',\n",
    "    'euclidean': 'Euclidean',\n",
    "    'resampling': 'Resampling',\n",
    "}\n",
    "\n",
    "algo_color = {\n",
    "    'basin_hopping': 'green',\n",
    "    'basin_hopping_step': 'blue',\n",
    "    'pairs': 'orange',\n",
    "    'greedy_dp': 'red',\n",
    "}\n",
    "\n",
    "algo_name = {'basin_hopping': 'Basinhopping', 'basin_hopping_step': 'Basinhopping step', \n",
    "                 'greedy_dp': 'Gredy DP', 'pairs': 'Pairs'}\n",
    "\n",
    "\n",
    "df = report[report['algorithm'] == 'heuristic']\n",
    "fig, axs= plt.subplots(2, 2, figsize=(7, 7), dpi=200)\n",
    "for i, (family, ax) in enumerate(zip(families, axs.flatten())):\n",
    "    if i == 0 or i == 2:\n",
    "        ax.set_ylabel('Probability density')\n",
    "    ax.set_xlabel('Time (s)')\n",
    "    ax.set_title(family_name[family])\n",
    "    \n",
    "    for algo in algos:\n",
    "        df_ = df[(df['family'] == family) & (df['algo'] == algo)]\n",
    "        if len(df_) == 0:\n",
    "            print(f'No data for {family} {algo}')\n",
    "            continue\n",
    "        ax.hist(df_['dt'], bins=20, density=True, alpha=0.5, label=f'{algo_name[algo]}', color=algo_color[algo])\n",
    "\n",
    "    ax.set_xlim(0, 30)\n",
    "    ax.set_ylim(0, 1)\n",
    "    ax.legend()\n",
    "    \n",
    "fig.suptitle('Average execution times of the heuristic algorithm\\nfor different families of instances and algorithms')\n",
    "fig.tight_layout()\n",
    "plt.show()"
   ]
  },
  {
   "cell_type": "code",
   "execution_count": 38,
   "metadata": {},
   "outputs": [
    {
     "data": {
      "image/png": "[encoded data removed]",
      "text/plain": [
       "<Figure size 1400x1400 with 4 Axes>"
      ]
     },
     "metadata": {
      "needs_background": "light"
     },
     "output_type": "display_data"
    }
   ],
   "source": [
    "\n",
    "df = report[report['algorithm'] == 'reference']\n",
    "fig, axs= plt.subplots(2, 2, figsize=(7, 7), dpi=200)\n",
    "for i, (family, ax) in enumerate(zip(families, axs.flatten())):\n",
    "    df_ = df[(df['family'] == family)]\n",
    "    ax.hist(df_['dt'] / 1e6, bins=50, density=True, alpha=0.5, label=f'{family} {algo}')\n",
    "\n",
    "    ax.set_title(family_name[family])\n",
    "    \n",
    "    if i == 0 or i == 2:\n",
    "        ax.set_ylabel('Probability density')\n",
    "    ax.set_xlabel('Time ($10^6$ s)')\n",
    "\n",
    "fig.tight_layout()\n",
    "plt.show()"
   ]
  },
  {
   "cell_type": "code",
   "execution_count": 39,
   "metadata": {},
   "outputs": [],
   "source": [
    "df = report.groupby(['family', 'algo', 'algorithm', 'i_generated', 'i_trial']).count()\n",
    "steps_df = df.loc[:, :, 'heuristic', :]\n",
    "steps_df = steps_df.rename(columns={'dt': 'steps'})\n",
    "steps_df = steps_df['steps']"
   ]
  },
  {
   "cell_type": "code",
   "execution_count": 40,
   "metadata": {},
   "outputs": [
    {
     "data": {
      "text/plain": [
       "family         algo           i_generated  i_trial\n",
       "euclidean      basin_hopping  0            0           1\n",
       "                                           1           1\n",
       "                                           2           1\n",
       "                                           3           1\n",
       "                                           4           1\n",
       "                                                      ..\n",
       "truncated_urn  pairs          3            4          48\n",
       "                                           5          48\n",
       "                                           6          48\n",
       "                                           7          48\n",
       "                                           8          28\n",
       "Name: steps, Length: 896, dtype: int64"
      ]
     },
     "execution_count": 40,
     "metadata": {},
     "output_type": "execute_result"
    }
   ],
   "source": [
    "steps_df"
   ]
  },
  {
   "cell_type": "code",
   "execution_count": 41,
   "metadata": {},
   "outputs": [
    {
     "data": {
      "text/html": [
       "<div>\n",
       "<style scoped>\n",
       "    .dataframe tbody tr th:only-of-type {\n",
       "        vertical-align: middle;\n",
       "    }\n",
       "\n",
       "    .dataframe tbody tr th {\n",
       "        vertical-align: top;\n",
       "    }\n",
       "\n",
       "    .dataframe thead th {\n",
       "        text-align: right;\n",
       "    }\n",
       "</style>\n",
       "<table border=\"1\" class=\"dataframe\">\n",
       "  <thead>\n",
       "    <tr style=\"text-align: right;\">\n",
       "      <th></th>\n",
       "      <th></th>\n",
       "      <th></th>\n",
       "      <th>mean</th>\n",
       "      <th>std</th>\n",
       "    </tr>\n",
       "    <tr>\n",
       "      <th>family</th>\n",
       "      <th>algo</th>\n",
       "      <th>i_generated</th>\n",
       "      <th></th>\n",
       "      <th></th>\n",
       "    </tr>\n",
       "  </thead>\n",
       "  <tbody>\n",
       "    <tr>\n",
       "      <th rowspan=\"5\" valign=\"top\">euclidean</th>\n",
       "      <th rowspan=\"5\" valign=\"top\">basin_hopping</th>\n",
       "      <th>0</th>\n",
       "      <td>1.000000</td>\n",
       "      <td>0.000000</td>\n",
       "    </tr>\n",
       "    <tr>\n",
       "      <th>1</th>\n",
       "      <td>1.000000</td>\n",
       "      <td>0.000000</td>\n",
       "    </tr>\n",
       "    <tr>\n",
       "      <th>2</th>\n",
       "      <td>1.000000</td>\n",
       "      <td>0.000000</td>\n",
       "    </tr>\n",
       "    <tr>\n",
       "      <th>3</th>\n",
       "      <td>1.000000</td>\n",
       "      <td>0.000000</td>\n",
       "    </tr>\n",
       "    <tr>\n",
       "      <th>4</th>\n",
       "      <td>1.100000</td>\n",
       "      <td>0.316228</td>\n",
       "    </tr>\n",
       "    <tr>\n",
       "      <th>...</th>\n",
       "      <th>...</th>\n",
       "      <th>...</th>\n",
       "      <td>...</td>\n",
       "      <td>...</td>\n",
       "    </tr>\n",
       "    <tr>\n",
       "      <th rowspan=\"5\" valign=\"top\">truncated_urn</th>\n",
       "      <th>greedy_dp</th>\n",
       "      <th>3</th>\n",
       "      <td>13.900000</td>\n",
       "      <td>3.478505</td>\n",
       "    </tr>\n",
       "    <tr>\n",
       "      <th rowspan=\"4\" valign=\"top\">pairs</th>\n",
       "      <th>0</th>\n",
       "      <td>27.000000</td>\n",
       "      <td>0.000000</td>\n",
       "    </tr>\n",
       "    <tr>\n",
       "      <th>1</th>\n",
       "      <td>2.000000</td>\n",
       "      <td>0.000000</td>\n",
       "    </tr>\n",
       "    <tr>\n",
       "      <th>2</th>\n",
       "      <td>25.000000</td>\n",
       "      <td>0.000000</td>\n",
       "    </tr>\n",
       "    <tr>\n",
       "      <th>3</th>\n",
       "      <td>45.777778</td>\n",
       "      <td>6.666667</td>\n",
       "    </tr>\n",
       "  </tbody>\n",
       "</table>\n",
       "<p>91 rows × 2 columns</p>\n",
       "</div>"
      ],
      "text/plain": [
       "                                              mean       std\n",
       "family        algo          i_generated                     \n",
       "euclidean     basin_hopping 0             1.000000  0.000000\n",
       "                            1             1.000000  0.000000\n",
       "                            2             1.000000  0.000000\n",
       "                            3             1.000000  0.000000\n",
       "                            4             1.100000  0.316228\n",
       "...                                            ...       ...\n",
       "truncated_urn greedy_dp     3            13.900000  3.478505\n",
       "              pairs         0            27.000000  0.000000\n",
       "                            1             2.000000  0.000000\n",
       "                            2            25.000000  0.000000\n",
       "                            3            45.777778  6.666667\n",
       "\n",
       "[91 rows x 2 columns]"
      ]
     },
     "execution_count": 41,
     "metadata": {},
     "output_type": "execute_result"
    }
   ],
   "source": [
    "df = steps_df.groupby(level=[0, 1, 2]).agg([np.mean, np.std])\n",
    "df"
   ]
  },
  {
   "cell_type": "code",
   "execution_count": 48,
   "metadata": {},
   "outputs": [],
   "source": [
    "# fig, ax = plt.subplots(dpi=300, figsize=(10, 5))\n",
    "\n",
    "# for (family, algo), steps in df.groupby(level=(0, 1)):\n",
    "#     xs = steps.index.get_level_values(-1)\n",
    "#     ax.errorbar(xs, steps['mean'], steps['std'], label=f'{family} {algo}', fmt='--o')\n",
    "    \n",
    "# ax.set_xlabel('Number of generated references')\n",
    "# ax.set_ylabel('Average trials to change reference')\n",
    "# ax.set_title('Heuristic algorithm')\n",
    "# ax.set_yscale('log')\n",
    "# ax.legend()\n",
    "# fig.tight_layout()\n",
    "\n"
   ]
  },
  {
   "cell_type": "code",
   "execution_count": 45,
   "metadata": {},
   "outputs": [],
   "source": [
    "df = steps_df.groupby(level=[1, 2]).agg([np.mean, np.std])\n",
    "# df"
   ]
  },
  {
   "cell_type": "code",
   "execution_count": 49,
   "metadata": {},
   "outputs": [
    {
     "data": {
      "image/png": "[encoded data removed]",
      "text/plain": [
       "<Figure size 2000x1000 with 1 Axes>"
      ]
     },
     "metadata": {
      "needs_background": "light"
     },
     "output_type": "display_data"
    }
   ],
   "source": [
    "fig, ax = plt.subplots(dpi=200, figsize=(10, 5))\n",
    "\n",
    "for algo, steps in df.groupby(level=0):\n",
    "    xs = steps.index.get_level_values(-1)\n",
    "    ax.errorbar(xs, steps['mean'], steps['std'], label=f'{algo_name[algo]}', fmt='--o')\n",
    "    \n",
    "ax.set_xlabel('Number of generated references')\n",
    "ax.set_ylabel('Average trials to change reference')\n",
    "ax.set_title('Heuristic algorithm')\n",
    "# ax.set_yscale('log')\n",
    "ax.legend()\n",
    "fig.tight_layout()"
   ]
  },
  {
   "cell_type": "code",
   "execution_count": 97,
   "metadata": {},
   "outputs": [],
   "source": []
  },
  {
   "cell_type": "code",
   "execution_count": 68,
   "metadata": {},
   "outputs": [
    {
     "data": {
      "image/png": "[encoded data removed]",
      "text/plain": [
       "<Figure size 2000x1000 with 1 Axes>"
      ]
     },
     "metadata": {
      "needs_background": "light"
     },
     "output_type": "display_data"
    }
   ],
   "source": [
    "df = steps_df.groupby(level=[1, 2]).agg([np.mean, np.std])\n",
    "df['std_squared'] = df['std'] ** 2\n",
    "df = df.cumsum()\n",
    "df['std'] = np.sqrt(df['std_squared'])\n",
    "df = df.drop(columns='std_squared')\n",
    "\n",
    "\n",
    "\n",
    "fig, ax = plt.subplots(dpi=200, figsize=(10, 5))\n",
    "\n",
    "for algo, steps in df.groupby(level=0):\n",
    "    xs = steps.index.get_level_values(-1)\n",
    "    ax.errorbar(xs, steps['mean'], steps['std'], label=f'{algo_name[algo]}', fmt='--o')\n",
    "    \n",
    "ax.set_xlabel('Number of generated references')\n",
    "ax.set_title(\"Average accumulated number of steps needed to change reference's outcome\")\n",
    "ax.set_ylabel('Number of steps')\n",
    "# ax.set_yscale('log')\n",
    "ax.legend()\n",
    "fig.tight_layout()"
   ]
  },
  {
   "cell_type": "code",
   "execution_count": 69,
   "metadata": {},
   "outputs": [
    {
     "data": {
      "application/vnd.plotly.v1+json": {
       "config": {
        "plotlyServerURL": "https://plot.ly"
       },
       "data": [
        {
         "alignmentgroup": "True",
         "error_y": {
          "array": [
           0,
           0.22360679774997896,
           0.6766791978789544,
           1.2407552878027666,
           1.6383560438182505,
           8.10049591418498,
           8.111461756891007,
           8.38160887831572
          ]
         },
         "hovertemplate": "algo=basin_hopping<br>i_generated=%{x}<br>mean=%{y}<extra></extra>",
         "legendgroup": "basin_hopping",
         "marker": {
          "color": "#636efa",
          "pattern": {
           "shape": ""
          }
         },
         "name": "Basinhopping",
         "offsetgroup": "basin_hopping",
         "orientation": "v",
         "showlegend": true,
         "textposition": "auto",
         "type": "bar",
         "x": [
          0,
          1,
          2,
          3,
          4,
          5,
          6,
          7
         ],
         "xaxis": "x",
         "y": [
          1,
          2.05,
          3.3,
          4.949999999999999,
          6.699999999999999,
          13.641176470588235,
          14.841176470588234,
          24.141176470588235
         ],
         "yaxis": "y"
        },
        {
         "alignmentgroup": "True",
         "error_y": {
          "array": [
           8.968003419813066,
           9.397869818881864,
           10.840869167743785,
           37.2129796518439,
           55.42949555689345,
           60.78599274668143,
           84.47385187761779,
           85.32717262328464
          ]
         },
         "hovertemplate": "algo=basin_hopping_step<br>i_generated=%{x}<br>mean=%{y}<extra></extra>",
         "legendgroup": "basin_hopping_step",
         "marker": {
          "color": "#EF553B",
          "pattern": {
           "shape": ""
          }
         },
         "name": "Basinhopping step",
         "offsetgroup": "basin_hopping_step",
         "orientation": "v",
         "showlegend": true,
         "textposition": "auto",
         "type": "bar",
         "x": [
          0,
          1,
          2,
          3,
          4,
          5,
          6,
          7
         ],
         "xaxis": "x",
         "y": [
          26.816176470588236,
          29.766176470588235,
          37.54117647058823,
          67.81617647058823,
          96.46482511923688,
          111.75053940495117,
          140.25053940495116,
          146.75053940495116
         ],
         "yaxis": "y"
        },
        {
         "alignmentgroup": "True",
         "error_y": {
          "array": [
           85.40826975024123,
           85.41840147743775,
           86.26268828769102,
           86.50584798409257,
           86.53018121882515,
           86.82770991527498,
           87.04055699541632,
           87.04055699541632
          ]
         },
         "hovertemplate": "algo=greedy_dp<br>i_generated=%{x}<br>mean=%{y}<extra></extra>",
         "legendgroup": "greedy_dp",
         "marker": {
          "color": "#00cc96",
          "pattern": {
           "shape": ""
          }
         },
         "name": "Gredy DP",
         "offsetgroup": "greedy_dp",
         "orientation": "v",
         "showlegend": true,
         "textposition": "auto",
         "type": "bar",
         "x": [
          0,
          1,
          2,
          3,
          4,
          5,
          6,
          7
         ],
         "xaxis": "x",
         "y": [
          150.75053940495116,
          153.00053940495116,
          164.6058025628459,
          169.9058025628459,
          172.9058025628459,
          180.9058025628459,
          193.31756726872825,
          198.31756726872825
         ],
         "yaxis": "y"
        },
        {
         "alignmentgroup": "True",
         "error_y": {
          "array": [
           87.63762567451946,
           87.63762567451946,
           88.13760859730542,
           89.94678584624144,
           89.98128239040241,
           90.51239279561038,
           92.383938539995,
           100.54831929950235
          ]
         },
         "hovertemplate": "algo=pairs<br>i_generated=%{x}<br>mean=%{y}<extra></extra>",
         "legendgroup": "pairs",
         "marker": {
          "color": "#ab63fa",
          "pattern": {
           "shape": ""
          }
         },
         "name": "Pairs",
         "offsetgroup": "pairs",
         "orientation": "v",
         "showlegend": true,
         "textposition": "auto",
         "type": "bar",
         "x": [
          0,
          1,
          2,
          3,
          4,
          5,
          6,
          7
         ],
         "xaxis": "x",
         "y": [
          208.56756726872825,
          210.56756726872825,
          220.81756726872825,
          234.97141342257441,
          239.97141342257441,
          251.97141342257441,
          272.30474675590773,
          340.30474675590773
         ],
         "yaxis": "y"
        }
       ],
       "layout": {
        "barmode": "group",
        "height": 400,
        "legend": {
         "title": {
          "text": "Heuristic algorithm"
         },
         "tracegroupgap": 0
        },
        "margin": {
         "t": 60
        },
        "template": {
         "data": {
          "bar": [
           {
            "error_x": {
             "color": "#2a3f5f"
            },
            "error_y": {
             "color": "#2a3f5f"
            },
            "marker": {
             "line": {
              "color": "#E5ECF6",
              "width": 0.5
             },
             "pattern": {
              "fillmode": "overlay",
              "size": 10,
              "solidity": 0.2
             }
            },
            "type": "bar"
           }
          ],
          "barpolar": [
           {
            "marker": {
             "line": {
              "color": "#E5ECF6",
              "width": 0.5
             },
             "pattern": {
              "fillmode": "overlay",
              "size": 10,
              "solidity": 0.2
             }
            },
            "type": "barpolar"
           }
          ],
          "carpet": [
           {
            "aaxis": {
             "endlinecolor": "#2a3f5f",
             "gridcolor": "white",
             "linecolor": "white",
             "minorgridcolor": "white",
             "startlinecolor": "#2a3f5f"
            },
            "baxis": {
             "endlinecolor": "#2a3f5f",
             "gridcolor": "white",
             "linecolor": "white",
             "minorgridcolor": "white",
             "startlinecolor": "#2a3f5f"
            },
            "type": "carpet"
           }
          ],
          "choropleth": [
           {
            "colorbar": {
             "outlinewidth": 0,
             "ticks": ""
            },
            "type": "choropleth"
           }
          ],
          "contour": [
           {
            "colorbar": {
             "outlinewidth": 0,
             "ticks": ""
            },
            "colorscale": [
             [
              0,
              "#0d0887"
             ],
             [
              0.1111111111111111,
              "#46039f"
             ],
             [
              0.2222222222222222,
              "#7201a8"
             ],
             [
              0.3333333333333333,
              "#9c179e"
             ],
             [
              0.4444444444444444,
              "#bd3786"
             ],
             [
              0.5555555555555556,
              "#d8576b"
             ],
             [
              0.6666666666666666,
              "#ed7953"
             ],
             [
              0.7777777777777778,
              "#fb9f3a"
             ],
             [
              0.8888888888888888,
              "#fdca26"
             ],
             [
              1,
              "#f0f921"
             ]
            ],
            "type": "contour"
           }
          ],
          "contourcarpet": [
           {
            "colorbar": {
             "outlinewidth": 0,
             "ticks": ""
            },
            "type": "contourcarpet"
           }
          ],
          "heatmap": [
           {
            "colorbar": {
             "outlinewidth": 0,
             "ticks": ""
            },
            "colorscale": [
             [
              0,
              "#0d0887"
             ],
             [
              0.1111111111111111,
              "#46039f"
             ],
             [
              0.2222222222222222,
              "#7201a8"
             ],
             [
              0.3333333333333333,
              "#9c179e"
             ],
             [
              0.4444444444444444,
              "#bd3786"
             ],
             [
              0.5555555555555556,
              "#d8576b"
             ],
             [
              0.6666666666666666,
              "#ed7953"
             ],
             [
              0.7777777777777778,
              "#fb9f3a"
             ],
             [
              0.8888888888888888,
              "#fdca26"
             ],
             [
              1,
              "#f0f921"
             ]
            ],
            "type": "heatmap"
           }
          ],
          "heatmapgl": [
           {
            "colorbar": {
             "outlinewidth": 0,
             "ticks": ""
            },
            "colorscale": [
             [
              0,
              "#0d0887"
             ],
             [
              0.1111111111111111,
              "#46039f"
             ],
             [
              0.2222222222222222,
              "#7201a8"
             ],
             [
              0.3333333333333333,
              "#9c179e"
             ],
             [
              0.4444444444444444,
              "#bd3786"
             ],
             [
              0.5555555555555556,
              "#d8576b"
             ],
             [
              0.6666666666666666,
              "#ed7953"
             ],
             [
              0.7777777777777778,
              "#fb9f3a"
             ],
             [
              0.8888888888888888,
              "#fdca26"
             ],
             [
              1,
              "#f0f921"
             ]
            ],
            "type": "heatmapgl"
           }
          ],
          "histogram": [
           {
            "marker": {
             "pattern": {
              "fillmode": "overlay",
              "size": 10,
              "solidity": 0.2
             }
            },
            "type": "histogram"
           }
          ],
          "histogram2d": [
           {
            "colorbar": {
             "outlinewidth": 0,
             "ticks": ""
            },
            "colorscale": [
             [
              0,
              "#0d0887"
             ],
             [
              0.1111111111111111,
              "#46039f"
             ],
             [
              0.2222222222222222,
              "#7201a8"
             ],
             [
              0.3333333333333333,
              "#9c179e"
             ],
             [
              0.4444444444444444,
              "#bd3786"
             ],
             [
              0.5555555555555556,
              "#d8576b"
             ],
             [
              0.6666666666666666,
              "#ed7953"
             ],
             [
              0.7777777777777778,
              "#fb9f3a"
             ],
             [
              0.8888888888888888,
              "#fdca26"
             ],
             [
              1,
              "#f0f921"
             ]
            ],
            "type": "histogram2d"
           }
          ],
          "histogram2dcontour": [
           {
            "colorbar": {
             "outlinewidth": 0,
             "ticks": ""
            },
            "colorscale": [
             [
              0,
              "#0d0887"
             ],
             [
              0.1111111111111111,
              "#46039f"
             ],
             [
              0.2222222222222222,
              "#7201a8"
             ],
             [
              0.3333333333333333,
              "#9c179e"
             ],
             [
              0.4444444444444444,
              "#bd3786"
             ],
             [
              0.5555555555555556,
              "#d8576b"
             ],
             [
              0.6666666666666666,
              "#ed7953"
             ],
             [
              0.7777777777777778,
              "#fb9f3a"
             ],
             [
              0.8888888888888888,
              "#fdca26"
             ],
             [
              1,
              "#f0f921"
             ]
            ],
            "type": "histogram2dcontour"
           }
          ],
          "mesh3d": [
           {
            "colorbar": {
             "outlinewidth": 0,
             "ticks": ""
            },
            "type": "mesh3d"
           }
          ],
          "parcoords": [
           {
            "line": {
             "colorbar": {
              "outlinewidth": 0,
              "ticks": ""
             }
            },
            "type": "parcoords"
           }
          ],
          "pie": [
           {
            "automargin": true,
            "type": "pie"
           }
          ],
          "scatter": [
           {
            "fillpattern": {
             "fillmode": "overlay",
             "size": 10,
             "solidity": 0.2
            },
            "type": "scatter"
           }
          ],
          "scatter3d": [
           {
            "line": {
             "colorbar": {
              "outlinewidth": 0,
              "ticks": ""
             }
            },
            "marker": {
             "colorbar": {
              "outlinewidth": 0,
              "ticks": ""
             }
            },
            "type": "scatter3d"
           }
          ],
          "scattercarpet": [
           {
            "marker": {
             "colorbar": {
              "outlinewidth": 0,
              "ticks": ""
             }
            },
            "type": "scattercarpet"
           }
          ],
          "scattergeo": [
           {
            "marker": {
             "colorbar": {
              "outlinewidth": 0,
              "ticks": ""
             }
            },
            "type": "scattergeo"
           }
          ],
          "scattergl": [
           {
            "marker": {
             "colorbar": {
              "outlinewidth": 0,
              "ticks": ""
             }
            },
            "type": "scattergl"
           }
          ],
          "scattermapbox": [
           {
            "marker": {
             "colorbar": {
              "outlinewidth": 0,
              "ticks": ""
             }
            },
            "type": "scattermapbox"
           }
          ],
          "scatterpolar": [
           {
            "marker": {
             "colorbar": {
              "outlinewidth": 0,
              "ticks": ""
             }
            },
            "type": "scatterpolar"
           }
          ],
          "scatterpolargl": [
           {
            "marker": {
             "colorbar": {
              "outlinewidth": 0,
              "ticks": ""
             }
            },
            "type": "scatterpolargl"
           }
          ],
          "scatterternary": [
           {
            "marker": {
             "colorbar": {
              "outlinewidth": 0,
              "ticks": ""
             }
            },
            "type": "scatterternary"
           }
          ],
          "surface": [
           {
            "colorbar": {
             "outlinewidth": 0,
             "ticks": ""
            },
            "colorscale": [
             [
              0,
              "#0d0887"
             ],
             [
              0.1111111111111111,
              "#46039f"
             ],
             [
              0.2222222222222222,
              "#7201a8"
             ],
             [
              0.3333333333333333,
              "#9c179e"
             ],
             [
              0.4444444444444444,
              "#bd3786"
             ],
             [
              0.5555555555555556,
              "#d8576b"
             ],
             [
              0.6666666666666666,
              "#ed7953"
             ],
             [
              0.7777777777777778,
              "#fb9f3a"
             ],
             [
              0.8888888888888888,
              "#fdca26"
             ],
             [
              1,
              "#f0f921"
             ]
            ],
            "type": "surface"
           }
          ],
          "table": [
           {
            "cells": {
             "fill": {
              "color": "#EBF0F8"
             },
             "line": {
              "color": "white"
             }
            },
            "header": {
             "fill": {
              "color": "#C8D4E3"
             },
             "line": {
              "color": "white"
             }
            },
            "type": "table"
           }
          ]
         },
         "layout": {
          "annotationdefaults": {
           "arrowcolor": "#2a3f5f",
           "arrowhead": 0,
           "arrowwidth": 1
          },
          "autotypenumbers": "strict",
          "coloraxis": {
           "colorbar": {
            "outlinewidth": 0,
            "ticks": ""
           }
          },
          "colorscale": {
           "diverging": [
            [
             0,
             "#8e0152"
            ],
            [
             0.1,
             "#c51b7d"
            ],
            [
             0.2,
             "#de77ae"
            ],
            [
             0.3,
             "#f1b6da"
            ],
            [
             0.4,
             "#fde0ef"
            ],
            [
             0.5,
             "#f7f7f7"
            ],
            [
             0.6,
             "#e6f5d0"
            ],
            [
             0.7,
             "#b8e186"
            ],
            [
             0.8,
             "#7fbc41"
            ],
            [
             0.9,
             "#4d9221"
            ],
            [
             1,
             "#276419"
            ]
           ],
           "sequential": [
            [
             0,
             "#0d0887"
            ],
            [
             0.1111111111111111,
             "#46039f"
            ],
            [
             0.2222222222222222,
             "#7201a8"
            ],
            [
             0.3333333333333333,
             "#9c179e"
            ],
            [
             0.4444444444444444,
             "#bd3786"
            ],
            [
             0.5555555555555556,
             "#d8576b"
            ],
            [
             0.6666666666666666,
             "#ed7953"
            ],
            [
             0.7777777777777778,
             "#fb9f3a"
            ],
            [
             0.8888888888888888,
             "#fdca26"
            ],
            [
             1,
             "#f0f921"
            ]
           ],
           "sequentialminus": [
            [
             0,
             "#0d0887"
            ],
            [
             0.1111111111111111,
             "#46039f"
            ],
            [
             0.2222222222222222,
             "#7201a8"
            ],
            [
             0.3333333333333333,
             "#9c179e"
            ],
            [
             0.4444444444444444,
             "#bd3786"
            ],
            [
             0.5555555555555556,
             "#d8576b"
            ],
            [
             0.6666666666666666,
             "#ed7953"
            ],
            [
             0.7777777777777778,
             "#fb9f3a"
            ],
            [
             0.8888888888888888,
             "#fdca26"
            ],
            [
             1,
             "#f0f921"
            ]
           ]
          },
          "colorway": [
           "#636efa",
           "#EF553B",
           "#00cc96",
           "#ab63fa",
           "#FFA15A",
           "#19d3f3",
           "#FF6692",
           "#B6E880",
           "#FF97FF",
           "#FECB52"
          ],
          "font": {
           "color": "#2a3f5f"
          },
          "geo": {
           "bgcolor": "white",
           "lakecolor": "white",
           "landcolor": "#E5ECF6",
           "showlakes": true,
           "showland": true,
           "subunitcolor": "white"
          },
          "hoverlabel": {
           "align": "left"
          },
          "hovermode": "closest",
          "mapbox": {
           "style": "light"
          },
          "paper_bgcolor": "white",
          "plot_bgcolor": "#E5ECF6",
          "polar": {
           "angularaxis": {
            "gridcolor": "white",
            "linecolor": "white",
            "ticks": ""
           },
           "bgcolor": "#E5ECF6",
           "radialaxis": {
            "gridcolor": "white",
            "linecolor": "white",
            "ticks": ""
           }
          },
          "scene": {
           "xaxis": {
            "backgroundcolor": "#E5ECF6",
            "gridcolor": "white",
            "gridwidth": 2,
            "linecolor": "white",
            "showbackground": true,
            "ticks": "",
            "zerolinecolor": "white"
           },
           "yaxis": {
            "backgroundcolor": "#E5ECF6",
            "gridcolor": "white",
            "gridwidth": 2,
            "linecolor": "white",
            "showbackground": true,
            "ticks": "",
            "zerolinecolor": "white"
           },
           "zaxis": {
            "backgroundcolor": "#E5ECF6",
            "gridcolor": "white",
            "gridwidth": 2,
            "linecolor": "white",
            "showbackground": true,
            "ticks": "",
            "zerolinecolor": "white"
           }
          },
          "shapedefaults": {
           "line": {
            "color": "#2a3f5f"
           }
          },
          "ternary": {
           "aaxis": {
            "gridcolor": "white",
            "linecolor": "white",
            "ticks": ""
           },
           "baxis": {
            "gridcolor": "white",
            "linecolor": "white",
            "ticks": ""
           },
           "bgcolor": "#E5ECF6",
           "caxis": {
            "gridcolor": "white",
            "linecolor": "white",
            "ticks": ""
           }
          },
          "title": {
           "x": 0.05
          },
          "xaxis": {
           "automargin": true,
           "gridcolor": "white",
           "linecolor": "white",
           "ticks": "",
           "title": {
            "standoff": 15
           },
           "zerolinecolor": "white",
           "zerolinewidth": 2
          },
          "yaxis": {
           "automargin": true,
           "gridcolor": "white",
           "linecolor": "white",
           "ticks": "",
           "title": {
            "standoff": 15
           },
           "zerolinecolor": "white",
           "zerolinewidth": 2
          }
         }
        },
        "title": {
         "text": "Average steps needed to change reference's outcome"
        },
        "xaxis": {
         "anchor": "y",
         "domain": [
          0,
          1
         ],
         "title": {
          "text": "Number of generated references"
         }
        },
        "yaxis": {
         "anchor": "x",
         "domain": [
          0,
          1
         ],
         "title": {
          "text": "Number of steps"
         }
        }
       }
      }
     },
     "metadata": {},
     "output_type": "display_data"
    }
   ],
   "source": [
    "\n",
    "\n",
    "fig = px.bar(df.reset_index(), x=\"i_generated\", y=\"mean\",\n",
    "             color='algo', barmode='group',error_y=\"std\",\n",
    "             height=400)\n",
    "fig.for_each_trace(lambda t: t.update(name=algo_name.get(t.name, t.name)))\n",
    "fig.update_layout(xaxis_title='Number of generated references', title=\"Average steps needed to change reference's outcome\",\n",
    "                  yaxis_title='Number of steps', legend_title='Heuristic algorithm')\n",
    "\n",
    "fig.show()\n"
   ]
  },
  {
   "cell_type": "markdown",
   "metadata": {},
   "source": [
    "## Mean number of steps to change a reference point"
   ]
  },
  {
   "cell_type": "code",
   "execution_count": 73,
   "metadata": {},
   "outputs": [
    {
     "data": {
      "application/vnd.plotly.v1+json": {
       "config": {
        "plotlyServerURL": "https://plot.ly"
       },
       "data": [
        {
         "alignmentgroup": "True",
         "error_y": {
          "array": [
           0,
           0.22360679774997896,
           0.638666373658505,
           1.0399898784932577,
           1.0699237552766379,
           7.933084112084768,
           0.4216370213557839,
           2.110818693198342
          ]
         },
         "hovertemplate": "algo=basin_hopping<br>i_generated=%{x}<br>mean=%{y}<extra></extra>",
         "legendgroup": "basin_hopping",
         "marker": {
          "color": "#636efa",
          "pattern": {
           "shape": ""
          }
         },
         "name": "Basinhopping",
         "offsetgroup": "basin_hopping",
         "orientation": "v",
         "showlegend": true,
         "textposition": "auto",
         "type": "bar",
         "x": [
          0,
          1,
          2,
          3,
          4,
          5,
          6,
          7
         ],
         "xaxis": "x",
         "y": [
          1,
          1.05,
          1.25,
          1.65,
          1.75,
          6.9411764705882355,
          1.2,
          9.3
         ],
         "yaxis": "y"
        },
        {
         "alignmentgroup": "True",
         "error_y": {
          "array": [
           3.189626615878095,
           2.809781449663264,
           5.404117613402504,
           35.59889619435426,
           41.080690392483945,
           24.950108947816975,
           58.65914026681694,
           12.037222970523775
          ]
         },
         "hovertemplate": "algo=basin_hopping_step<br>i_generated=%{x}<br>mean=%{y}<extra></extra>",
         "legendgroup": "basin_hopping_step",
         "marker": {
          "color": "#EF553B",
          "pattern": {
           "shape": ""
          }
         },
         "name": "Basinhopping step",
         "offsetgroup": "basin_hopping_step",
         "orientation": "v",
         "showlegend": true,
         "textposition": "auto",
         "type": "bar",
         "x": [
          0,
          1,
          2,
          3,
          4,
          5,
          6,
          7
         ],
         "xaxis": "x",
         "y": [
          2.675,
          2.95,
          7.775,
          30.275,
          28.64864864864865,
          15.285714285714286,
          28.5,
          6.5
         ],
         "yaxis": "y"
        },
        {
         "alignmentgroup": "True",
         "error_y": {
          "array": [
           3.721042037676254,
           1.3155870289605436,
           12.03943851093588,
           6.481538770044209,
           2.051956704170309,
           7.181848464596079,
           6.083366908314546,
           0
          ]
         },
         "hovertemplate": "algo=greedy_dp<br>i_generated=%{x}<br>mean=%{y}<extra></extra>",
         "legendgroup": "greedy_dp",
         "marker": {
          "color": "#00cc96",
          "pattern": {
           "shape": ""
          }
         },
         "name": "Gredy DP",
         "offsetgroup": "greedy_dp",
         "orientation": "v",
         "showlegend": true,
         "textposition": "auto",
         "type": "bar",
         "x": [
          0,
          1,
          2,
          3,
          4,
          5,
          6,
          7
         ],
         "xaxis": "x",
         "y": [
          4,
          2.25,
          11.605263157894736,
          5.3,
          3,
          8,
          12.411764705882353,
          5
         ],
         "yaxis": "y"
        },
        {
         "alignmentgroup": "True",
         "error_y": {
          "array": [
           10.212486073178841,
           0,
           9.374679481700449,
           17.949546925140304,
           2.4913643956121994,
           9.790917677394559,
           18.501320238694124,
           39.68844181613966
          ]
         },
         "hovertemplate": "algo=pairs<br>i_generated=%{x}<br>mean=%{y}<extra></extra>",
         "legendgroup": "pairs",
         "marker": {
          "color": "#ab63fa",
          "pattern": {
           "shape": ""
          }
         },
         "name": "Pairs",
         "offsetgroup": "pairs",
         "orientation": "v",
         "showlegend": true,
         "textposition": "auto",
         "type": "bar",
         "x": [
          0,
          1,
          2,
          3,
          4,
          5,
          6,
          7
         ],
         "xaxis": "x",
         "y": [
          10.25,
          2,
          10.25,
          14.153846153846153,
          5,
          12,
          20.333333333333332,
          68
         ],
         "yaxis": "y"
        }
       ],
       "layout": {
        "barmode": "group",
        "height": 400,
        "legend": {
         "title": {
          "text": "Heuristic algorithm"
         },
         "tracegroupgap": 0
        },
        "margin": {
         "t": 60
        },
        "template": {
         "data": {
          "bar": [
           {
            "error_x": {
             "color": "#2a3f5f"
            },
            "error_y": {
             "color": "#2a3f5f"
            },
            "marker": {
             "line": {
              "color": "#E5ECF6",
              "width": 0.5
             },
             "pattern": {
              "fillmode": "overlay",
              "size": 10,
              "solidity": 0.2
             }
            },
            "type": "bar"
           }
          ],
          "barpolar": [
           {
            "marker": {
             "line": {
              "color": "#E5ECF6",
              "width": 0.5
             },
             "pattern": {
              "fillmode": "overlay",
              "size": 10,
              "solidity": 0.2
             }
            },
            "type": "barpolar"
           }
          ],
          "carpet": [
           {
            "aaxis": {
             "endlinecolor": "#2a3f5f",
             "gridcolor": "white",
             "linecolor": "white",
             "minorgridcolor": "white",
             "startlinecolor": "#2a3f5f"
            },
            "baxis": {
             "endlinecolor": "#2a3f5f",
             "gridcolor": "white",
             "linecolor": "white",
             "minorgridcolor": "white",
             "startlinecolor": "#2a3f5f"
            },
            "type": "carpet"
           }
          ],
          "choropleth": [
           {
            "colorbar": {
             "outlinewidth": 0,
             "ticks": ""
            },
            "type": "choropleth"
           }
          ],
          "contour": [
           {
            "colorbar": {
             "outlinewidth": 0,
             "ticks": ""
            },
            "colorscale": [
             [
              0,
              "#0d0887"
             ],
             [
              0.1111111111111111,
              "#46039f"
             ],
             [
              0.2222222222222222,
              "#7201a8"
             ],
             [
              0.3333333333333333,
              "#9c179e"
             ],
             [
              0.4444444444444444,
              "#bd3786"
             ],
             [
              0.5555555555555556,
              "#d8576b"
             ],
             [
              0.6666666666666666,
              "#ed7953"
             ],
             [
              0.7777777777777778,
              "#fb9f3a"
             ],
             [
              0.8888888888888888,
              "#fdca26"
             ],
             [
              1,
              "#f0f921"
             ]
            ],
            "type": "contour"
           }
          ],
          "contourcarpet": [
           {
            "colorbar": {
             "outlinewidth": 0,
             "ticks": ""
            },
            "type": "contourcarpet"
           }
          ],
          "heatmap": [
           {
            "colorbar": {
             "outlinewidth": 0,
             "ticks": ""
            },
            "colorscale": [
             [
              0,
              "#0d0887"
             ],
             [
              0.1111111111111111,
              "#46039f"
             ],
             [
              0.2222222222222222,
              "#7201a8"
             ],
             [
              0.3333333333333333,
              "#9c179e"
             ],
             [
              0.4444444444444444,
              "#bd3786"
             ],
             [
              0.5555555555555556,
              "#d8576b"
             ],
             [
              0.6666666666666666,
              "#ed7953"
             ],
             [
              0.7777777777777778,
              "#fb9f3a"
             ],
             [
              0.8888888888888888,
              "#fdca26"
             ],
             [
              1,
              "#f0f921"
             ]
            ],
            "type": "heatmap"
           }
          ],
          "heatmapgl": [
           {
            "colorbar": {
             "outlinewidth": 0,
             "ticks": ""
            },
            "colorscale": [
             [
              0,
              "#0d0887"
             ],
             [
              0.1111111111111111,
              "#46039f"
             ],
             [
              0.2222222222222222,
              "#7201a8"
             ],
             [
              0.3333333333333333,
              "#9c179e"
             ],
             [
              0.4444444444444444,
              "#bd3786"
             ],
             [
              0.5555555555555556,
              "#d8576b"
             ],
             [
              0.6666666666666666,
              "#ed7953"
             ],
             [
              0.7777777777777778,
              "#fb9f3a"
             ],
             [
              0.8888888888888888,
              "#fdca26"
             ],
             [
              1,
              "#f0f921"
             ]
            ],
            "type": "heatmapgl"
           }
          ],
          "histogram": [
           {
            "marker": {
             "pattern": {
              "fillmode": "overlay",
              "size": 10,
              "solidity": 0.2
             }
            },
            "type": "histogram"
           }
          ],
          "histogram2d": [
           {
            "colorbar": {
             "outlinewidth": 0,
             "ticks": ""
            },
            "colorscale": [
             [
              0,
              "#0d0887"
             ],
             [
              0.1111111111111111,
              "#46039f"
             ],
             [
              0.2222222222222222,
              "#7201a8"
             ],
             [
              0.3333333333333333,
              "#9c179e"
             ],
             [
              0.4444444444444444,
              "#bd3786"
             ],
             [
              0.5555555555555556,
              "#d8576b"
             ],
             [
              0.6666666666666666,
              "#ed7953"
             ],
             [
              0.7777777777777778,
              "#fb9f3a"
             ],
             [
              0.8888888888888888,
              "#fdca26"
             ],
             [
              1,
              "#f0f921"
             ]
            ],
            "type": "histogram2d"
           }
          ],
          "histogram2dcontour": [
           {
            "colorbar": {
             "outlinewidth": 0,
             "ticks": ""
            },
            "colorscale": [
             [
              0,
              "#0d0887"
             ],
             [
              0.1111111111111111,
              "#46039f"
             ],
             [
              0.2222222222222222,
              "#7201a8"
             ],
             [
              0.3333333333333333,
              "#9c179e"
             ],
             [
              0.4444444444444444,
              "#bd3786"
             ],
             [
              0.5555555555555556,
              "#d8576b"
             ],
             [
              0.6666666666666666,
              "#ed7953"
             ],
             [
              0.7777777777777778,
              "#fb9f3a"
             ],
             [
              0.8888888888888888,
              "#fdca26"
             ],
             [
              1,
              "#f0f921"
             ]
            ],
            "type": "histogram2dcontour"
           }
          ],
          "mesh3d": [
           {
            "colorbar": {
             "outlinewidth": 0,
             "ticks": ""
            },
            "type": "mesh3d"
           }
          ],
          "parcoords": [
           {
            "line": {
             "colorbar": {
              "outlinewidth": 0,
              "ticks": ""
             }
            },
            "type": "parcoords"
           }
          ],
          "pie": [
           {
            "automargin": true,
            "type": "pie"
           }
          ],
          "scatter": [
           {
            "fillpattern": {
             "fillmode": "overlay",
             "size": 10,
             "solidity": 0.2
            },
            "type": "scatter"
           }
          ],
          "scatter3d": [
           {
            "line": {
             "colorbar": {
              "outlinewidth": 0,
              "ticks": ""
             }
            },
            "marker": {
             "colorbar": {
              "outlinewidth": 0,
              "ticks": ""
             }
            },
            "type": "scatter3d"
           }
          ],
          "scattercarpet": [
           {
            "marker": {
             "colorbar": {
              "outlinewidth": 0,
              "ticks": ""
             }
            },
            "type": "scattercarpet"
           }
          ],
          "scattergeo": [
           {
            "marker": {
             "colorbar": {
              "outlinewidth": 0,
              "ticks": ""
             }
            },
            "type": "scattergeo"
           }
          ],
          "scattergl": [
           {
            "marker": {
             "colorbar": {
              "outlinewidth": 0,
              "ticks": ""
             }
            },
            "type": "scattergl"
           }
          ],
          "scattermapbox": [
           {
            "marker": {
             "colorbar": {
              "outlinewidth": 0,
              "ticks": ""
             }
            },
            "type": "scattermapbox"
           }
          ],
          "scatterpolar": [
           {
            "marker": {
             "colorbar": {
              "outlinewidth": 0,
              "ticks": ""
             }
            },
            "type": "scatterpolar"
           }
          ],
          "scatterpolargl": [
           {
            "marker": {
             "colorbar": {
              "outlinewidth": 0,
              "ticks": ""
             }
            },
            "type": "scatterpolargl"
           }
          ],
          "scatterternary": [
           {
            "marker": {
             "colorbar": {
              "outlinewidth": 0,
              "ticks": ""
             }
            },
            "type": "scatterternary"
           }
          ],
          "surface": [
           {
            "colorbar": {
             "outlinewidth": 0,
             "ticks": ""
            },
            "colorscale": [
             [
              0,
              "#0d0887"
             ],
             [
              0.1111111111111111,
              "#46039f"
             ],
             [
              0.2222222222222222,
              "#7201a8"
             ],
             [
              0.3333333333333333,
              "#9c179e"
             ],
             [
              0.4444444444444444,
              "#bd3786"
             ],
             [
              0.5555555555555556,
              "#d8576b"
             ],
             [
              0.6666666666666666,
              "#ed7953"
             ],
             [
              0.7777777777777778,
              "#fb9f3a"
             ],
             [
              0.8888888888888888,
              "#fdca26"
             ],
             [
              1,
              "#f0f921"
             ]
            ],
            "type": "surface"
           }
          ],
          "table": [
           {
            "cells": {
             "fill": {
              "color": "#EBF0F8"
             },
             "line": {
              "color": "white"
             }
            },
            "header": {
             "fill": {
              "color": "#C8D4E3"
             },
             "line": {
              "color": "white"
             }
            },
            "type": "table"
           }
          ]
         },
         "layout": {
          "annotationdefaults": {
           "arrowcolor": "#2a3f5f",
           "arrowhead": 0,
           "arrowwidth": 1
          },
          "autotypenumbers": "strict",
          "coloraxis": {
           "colorbar": {
            "outlinewidth": 0,
            "ticks": ""
           }
          },
          "colorscale": {
           "diverging": [
            [
             0,
             "#8e0152"
            ],
            [
             0.1,
             "#c51b7d"
            ],
            [
             0.2,
             "#de77ae"
            ],
            [
             0.3,
             "#f1b6da"
            ],
            [
             0.4,
             "#fde0ef"
            ],
            [
             0.5,
             "#f7f7f7"
            ],
            [
             0.6,
             "#e6f5d0"
            ],
            [
             0.7,
             "#b8e186"
            ],
            [
             0.8,
             "#7fbc41"
            ],
            [
             0.9,
             "#4d9221"
            ],
            [
             1,
             "#276419"
            ]
           ],
           "sequential": [
            [
             0,
             "#0d0887"
            ],
            [
             0.1111111111111111,
             "#46039f"
            ],
            [
             0.2222222222222222,
             "#7201a8"
            ],
            [
             0.3333333333333333,
             "#9c179e"
            ],
            [
             0.4444444444444444,
             "#bd3786"
            ],
            [
             0.5555555555555556,
             "#d8576b"
            ],
            [
             0.6666666666666666,
             "#ed7953"
            ],
            [
             0.7777777777777778,
             "#fb9f3a"
            ],
            [
             0.8888888888888888,
             "#fdca26"
            ],
            [
             1,
             "#f0f921"
            ]
           ],
           "sequentialminus": [
            [
             0,
             "#0d0887"
            ],
            [
             0.1111111111111111,
             "#46039f"
            ],
            [
             0.2222222222222222,
             "#7201a8"
            ],
            [
             0.3333333333333333,
             "#9c179e"
            ],
            [
             0.4444444444444444,
             "#bd3786"
            ],
            [
             0.5555555555555556,
             "#d8576b"
            ],
            [
             0.6666666666666666,
             "#ed7953"
            ],
            [
             0.7777777777777778,
             "#fb9f3a"
            ],
            [
             0.8888888888888888,
             "#fdca26"
            ],
            [
             1,
             "#f0f921"
            ]
           ]
          },
          "colorway": [
           "#636efa",
           "#EF553B",
           "#00cc96",
           "#ab63fa",
           "#FFA15A",
           "#19d3f3",
           "#FF6692",
           "#B6E880",
           "#FF97FF",
           "#FECB52"
          ],
          "font": {
           "color": "#2a3f5f"
          },
          "geo": {
           "bgcolor": "white",
           "lakecolor": "white",
           "landcolor": "#E5ECF6",
           "showlakes": true,
           "showland": true,
           "subunitcolor": "white"
          },
          "hoverlabel": {
           "align": "left"
          },
          "hovermode": "closest",
          "mapbox": {
           "style": "light"
          },
          "paper_bgcolor": "white",
          "plot_bgcolor": "#E5ECF6",
          "polar": {
           "angularaxis": {
            "gridcolor": "white",
            "linecolor": "white",
            "ticks": ""
           },
           "bgcolor": "#E5ECF6",
           "radialaxis": {
            "gridcolor": "white",
            "linecolor": "white",
            "ticks": ""
           }
          },
          "scene": {
           "xaxis": {
            "backgroundcolor": "#E5ECF6",
            "gridcolor": "white",
            "gridwidth": 2,
            "linecolor": "white",
            "showbackground": true,
            "ticks": "",
            "zerolinecolor": "white"
           },
           "yaxis": {
            "backgroundcolor": "#E5ECF6",
            "gridcolor": "white",
            "gridwidth": 2,
            "linecolor": "white",
            "showbackground": true,
            "ticks": "",
            "zerolinecolor": "white"
           },
           "zaxis": {
            "backgroundcolor": "#E5ECF6",
            "gridcolor": "white",
            "gridwidth": 2,
            "linecolor": "white",
            "showbackground": true,
            "ticks": "",
            "zerolinecolor": "white"
           }
          },
          "shapedefaults": {
           "line": {
            "color": "#2a3f5f"
           }
          },
          "ternary": {
           "aaxis": {
            "gridcolor": "white",
            "linecolor": "white",
            "ticks": ""
           },
           "baxis": {
            "gridcolor": "white",
            "linecolor": "white",
            "ticks": ""
           },
           "bgcolor": "#E5ECF6",
           "caxis": {
            "gridcolor": "white",
            "linecolor": "white",
            "ticks": ""
           }
          },
          "title": {
           "x": 0.05
          },
          "xaxis": {
           "automargin": true,
           "gridcolor": "white",
           "linecolor": "white",
           "ticks": "",
           "title": {
            "standoff": 15
           },
           "zerolinecolor": "white",
           "zerolinewidth": 2
          },
          "yaxis": {
           "automargin": true,
           "gridcolor": "white",
           "linecolor": "white",
           "ticks": "",
           "title": {
            "standoff": 15
           },
           "zerolinecolor": "white",
           "zerolinewidth": 2
          }
         }
        },
        "title": {
         "text": "Average steps per iterations needed to change reference's outcome"
        },
        "xaxis": {
         "anchor": "y",
         "domain": [
          0,
          1
         ],
         "title": {
          "text": "Number of generated references"
         }
        },
        "yaxis": {
         "anchor": "x",
         "domain": [
          0,
          1
         ],
         "title": {
          "text": "Steps"
         }
        }
       }
      }
     },
     "metadata": {},
     "output_type": "display_data"
    }
   ],
   "source": [
    "df = steps_df.groupby(level=[1, 2]).agg([np.mean, np.std])\n",
    "\n",
    "##################################\n",
    "\n",
    "fig = px.bar(df.reset_index(), x=\"i_generated\", y=\"mean\",\n",
    "             color='algo', barmode='group',error_y=\"std\",\n",
    "             height=400)\n",
    "fig.for_each_trace(lambda t: t.update(name=algo_name.get(t.name, t.name)))\n",
    "fig.update_layout(xaxis_title='Number of generated references', title=\"Average steps per iterations needed to change reference's outcome\",\n",
    "                  yaxis_title=\"Steps\", legend_title='Heuristic algorithm')\n",
    "\n",
    "fig.show()"
   ]
  },
  {
   "cell_type": "code",
   "execution_count": 115,
   "metadata": {},
   "outputs": [],
   "source": [
    "\n",
    "from plotly.offline import plot\n",
    "from plotly.subplots import make_subplots\n",
    "\n",
    "def create_subplots(subplots):\n",
    "    if isinstance(subplots[0], list):\n",
    "        rows = len(subplots)\n",
    "        cols = len(subplots[0])\n",
    "    else:\n",
    "        rows = 1\n",
    "        cols = len(subplots)\n",
    "        subplots = [subplots]\n",
    "    fig = make_subplots(rows=rows, cols=cols) \n",
    "\n",
    "    for row, subs in enumerate(subplots):\n",
    "        for col, figure in enumerate(subs):\n",
    "            for trace in range(len(figure[\"data\"])):\n",
    "                fig.add_trace(figure[\"data\"][trace], row=row+1, col=col+1)\n",
    "            fig.update_xaxes(title_text=figure[\"layout\"][\"xaxis\"][\"title\"][\"text\"], row=row+1, col=col+1)\n",
    "            fig.update_yaxes(title_text=figure[\"layout\"][\"yaxis\"][\"title\"][\"text\"], row=row+1, col=col+1)\n",
    "            fig.update_layout(title=figure[\"layout\"][\"title\"][\"text\"], showlegend=True, legend_title_text=figure[\"layout\"][\"legend\"][\"title\"][\"text\"])\n",
    "    return fig"
   ]
  },
  {
   "cell_type": "code",
   "execution_count": 117,
   "metadata": {},
   "outputs": [
    {
     "data": {
      "application/vnd.plotly.v1+json": {
       "config": {
        "plotlyServerURL": "https://plot.ly"
       },
       "data": [
        {
         "alignmentgroup": "True",
         "error_y": {
          "array": [
           0,
           0,
           0,
           0,
           0.31622776601683794,
           0.5773502691896258,
           0.7149203529842406,
           2.228601953392904,
           81.69191786489311,
           81.69252991825167,
           81.69695016747362,
           81.70517799448889,
           81.71360895768152,
           82.05729463718995
          ]
         },
         "hovertemplate": "algo=basin_hopping<br>i_generated=%{x}<br>mean=%{y}<extra></extra>",
         "legendgroup": "basin_hopping",
         "marker": {
          "color": "#636efa",
          "pattern": {
           "shape": ""
          }
         },
         "name": "Basinhopping noise",
         "offsetgroup": "basin_hopping",
         "orientation": "v",
         "showlegend": true,
         "textposition": "auto",
         "type": "bar",
         "x": [
          0,
          1,
          2,
          3,
          4,
          5,
          6,
          7,
          0,
          1,
          2,
          3,
          4,
          5
         ],
         "xaxis": "x",
         "y": [
          1,
          2,
          3,
          4,
          5.1,
          6.8,
          8,
          17.3,
          380.025,
          381.125,
          382.625,
          384.925,
          387.325,
          401.75357142857143
         ],
         "yaxis": "y"
        },
        {
         "alignmentgroup": "True",
         "error_y": {
          "array": [
           2.228601953392904,
           2.228601953392904,
           2.228601953392904,
           2.228601953392904,
           2.228601953392904,
           2.465314944946746,
           6.659162443163889,
           6.7222681357477025,
           6.7222681357477025,
           6.7222681357477025,
           7.192588778272628,
           7.2203416354998975,
           10.086294331087771,
           10.697871023920808,
           79.80977383754448,
           81.59929193592579,
           82.09797428044362,
           82.09939533447074,
           82.20110598645755,
           87.09560291782272,
           90.41091160091207,
           98.17508452872461,
           98.4373844166618,
           98.45121062239852,
           98.58001141607589,
           100.40267142148873,
           117.19491801918636
          ]
         },
         "hovertemplate": "algo=basin_hopping_step<br>i_generated=%{x}<br>mean=%{y}<extra></extra>",
         "legendgroup": "basin_hopping_step",
         "marker": {
          "color": "#EF553B",
          "pattern": {
           "shape": ""
          }
         },
         "name": "Basinhopping step noise",
         "offsetgroup": "basin_hopping_step",
         "orientation": "v",
         "showlegend": true,
         "textposition": "auto",
         "type": "bar",
         "x": [
          0,
          1,
          2,
          3,
          4,
          5,
          6,
          7,
          0,
          1,
          2,
          3,
          4,
          5,
          6,
          7,
          0,
          1,
          2,
          3,
          4,
          5,
          0,
          1,
          2,
          3,
          4
         ],
         "xaxis": "x",
         "y": [
          18.3,
          19.3,
          20.3,
          21.3,
          22.3,
          28.3,
          35.9,
          39.699999999999996,
          115.69999999999999,
          117.69999999999999,
          128.79999999999998,
          129.99999999999997,
          137.39999999999998,
          142.79999999999998,
          192.2,
          201.39999999999998,
          409.4535714285714,
          410.75357142857143,
          418.35357142857146,
          462.55357142857144,
          503.15357142857147,
          542.4035714285715,
          742.6892857142858,
          750.1892857142858,
          761.5892857142858,
          836.2892857142858,
          917.7178571428573
         ],
         "yaxis": "y"
        },
        {
         "alignmentgroup": "True",
         "error_y": {
          "array": [
           6.7222681357477025,
           6.7222681357477025,
           6.7222681357477025,
           6.7222681357477025,
           6.7222681357477025,
           6.7222681357477025,
           6.7222681357477025,
           6.7222681357477025,
           81.59929193592579,
           81.59929193592579,
           81.69191786489311,
           98.17508452872461,
           98.17508452872461,
           98.17508452872461,
           98.17508452872461,
           98.17508452872461,
           98.17508452872461,
           98.4373844166618,
           117.19491801918636,
           117.19491801918636,
           117.19491801918636,
           117.24653005323361
          ]
         },
         "hovertemplate": "algo=greedy_dp<br>i_generated=%{x}<br>mean=%{y}<extra></extra>",
         "legendgroup": "greedy_dp",
         "marker": {
          "color": "#00cc96",
          "pattern": {
           "shape": ""
          }
         },
         "name": "Gredy DP noise",
         "offsetgroup": "greedy_dp",
         "orientation": "v",
         "showlegend": true,
         "textposition": "auto",
         "type": "bar",
         "x": [
          0,
          1,
          2,
          3,
          4,
          5,
          6,
          7,
          0,
          1,
          2,
          0,
          1,
          2,
          3,
          4,
          5,
          6,
          0,
          1,
          2,
          3
         ],
         "xaxis": "x",
         "y": [
          40.699999999999996,
          41.699999999999996,
          42.699999999999996,
          43.699999999999996,
          48.699999999999996,
          49.699999999999996,
          58.699999999999996,
          63.699999999999996,
          205.39999999999998,
          209.39999999999998,
          222.02499999999998,
          543.4035714285715,
          546.4035714285715,
          549.4035714285715,
          550.4035714285715,
          551.4035714285715,
          566.4035714285715,
          583.6892857142858,
          927.7178571428573,
          928.7178571428573,
          958.7178571428573,
          972.6178571428572
         ],
         "yaxis": "y"
        },
        {
         "alignmentgroup": "True",
         "error_y": {
          "array": [
           6.7222681357477025,
           6.7222681357477025,
           6.7222681357477025,
           6.7222681357477025,
           6.7222681357477025,
           6.7222681357477025,
           6.7222681357477025,
           6.7222681357477025,
           81.69191786489311,
           81.69191786489311,
           81.69191786489311,
           81.69191786489311,
           81.69191786489311,
           81.69191786489311,
           81.69191786489311,
           81.69191786489311,
           98.4373844166618,
           98.4373844166618,
           98.4373844166618,
           98.4373844166618,
           98.4373844166618,
           98.4373844166618,
           98.4373844166618,
           98.4373844166618,
           117.24653005323361,
           117.24653005323361,
           117.24653005323361,
           117.4359112621359
          ]
         },
         "hovertemplate": "algo=pairs<br>i_generated=%{x}<br>mean=%{y}<extra></extra>",
         "legendgroup": "pairs",
         "marker": {
          "color": "#ab63fa",
          "pattern": {
           "shape": ""
          }
         },
         "name": "Pairs noise",
         "offsetgroup": "pairs",
         "orientation": "v",
         "showlegend": true,
         "textposition": "auto",
         "type": "bar",
         "x": [
          0,
          1,
          2,
          3,
          4,
          5,
          6,
          7,
          0,
          1,
          2,
          3,
          4,
          5,
          6,
          7,
          0,
          1,
          2,
          3,
          4,
          5,
          6,
          7,
          0,
          1,
          2,
          3
         ],
         "xaxis": "x",
         "y": [
          64.69999999999999,
          66.69999999999999,
          67.69999999999999,
          69.69999999999999,
          77.69999999999999,
          79.69999999999999,
          88.69999999999999,
          114.69999999999999,
          231.02499999999998,
          233.02499999999998,
          237.02499999999998,
          245.02499999999998,
          250.02499999999998,
          275.025,
          321.025,
          379.025,
          587.6892857142858,
          589.6892857142858,
          600.6892857142858,
          604.6892857142858,
          606.6892857142858,
          615.6892857142858,
          621.6892857142858,
          741.6892857142858,
          999.6178571428572,
          1001.6178571428572,
          1026.6178571428572,
          1072.395634920635
         ],
         "yaxis": "y"
        },
        {
         "alignmentgroup": "True",
         "error_y": {
          "array": [
           0,
           0,
           0,
           0,
           0.31622776601683794,
           0.5773502691896258,
           0.7149203529842406,
           2.228601953392904,
           81.69191786489311,
           81.69252991825167,
           81.69695016747362,
           81.70517799448889,
           81.71360895768152,
           82.05729463718995
          ]
         },
         "hovertemplate": "algo=basin_hopping<br>i_generated=%{x}<br>mean=%{y}<extra></extra>",
         "legendgroup": "basin_hopping",
         "marker": {
          "color": "#636efa",
          "pattern": {
           "shape": ""
          }
         },
         "name": "Basinhopping truncated_urn",
         "offsetgroup": "basin_hopping",
         "orientation": "v",
         "showlegend": true,
         "textposition": "auto",
         "type": "bar",
         "x": [
          0,
          1,
          2,
          3,
          4,
          5,
          6,
          7,
          0,
          1,
          2,
          3,
          4,
          5
         ],
         "xaxis": "x2",
         "y": [
          1,
          2,
          3,
          4,
          5.1,
          6.8,
          8,
          17.3,
          380.025,
          381.125,
          382.625,
          384.925,
          387.325,
          401.75357142857143
         ],
         "yaxis": "y2"
        },
        {
         "alignmentgroup": "True",
         "error_y": {
          "array": [
           2.228601953392904,
           2.228601953392904,
           2.228601953392904,
           2.228601953392904,
           2.228601953392904,
           2.465314944946746,
           6.659162443163889,
           6.7222681357477025,
           6.7222681357477025,
           6.7222681357477025,
           7.192588778272628,
           7.2203416354998975,
           10.086294331087771,
           10.697871023920808,
           79.80977383754448,
           81.59929193592579,
           82.09797428044362,
           82.09939533447074,
           82.20110598645755,
           87.09560291782272,
           90.41091160091207,
           98.17508452872461,
           98.4373844166618,
           98.45121062239852,
           98.58001141607589,
           100.40267142148873,
           117.19491801918636
          ]
         },
         "hovertemplate": "algo=basin_hopping_step<br>i_generated=%{x}<br>mean=%{y}<extra></extra>",
         "legendgroup": "basin_hopping_step",
         "marker": {
          "color": "#EF553B",
          "pattern": {
           "shape": ""
          }
         },
         "name": "Basinhopping step truncated_urn",
         "offsetgroup": "basin_hopping_step",
         "orientation": "v",
         "showlegend": true,
         "textposition": "auto",
         "type": "bar",
         "x": [
          0,
          1,
          2,
          3,
          4,
          5,
          6,
          7,
          0,
          1,
          2,
          3,
          4,
          5,
          6,
          7,
          0,
          1,
          2,
          3,
          4,
          5,
          0,
          1,
          2,
          3,
          4
         ],
         "xaxis": "x2",
         "y": [
          18.3,
          19.3,
          20.3,
          21.3,
          22.3,
          28.3,
          35.9,
          39.699999999999996,
          115.69999999999999,
          117.69999999999999,
          128.79999999999998,
          129.99999999999997,
          137.39999999999998,
          142.79999999999998,
          192.2,
          201.39999999999998,
          409.4535714285714,
          410.75357142857143,
          418.35357142857146,
          462.55357142857144,
          503.15357142857147,
          542.4035714285715,
          742.6892857142858,
          750.1892857142858,
          761.5892857142858,
          836.2892857142858,
          917.7178571428573
         ],
         "yaxis": "y2"
        },
        {
         "alignmentgroup": "True",
         "error_y": {
          "array": [
           6.7222681357477025,
           6.7222681357477025,
           6.7222681357477025,
           6.7222681357477025,
           6.7222681357477025,
           6.7222681357477025,
           6.7222681357477025,
           6.7222681357477025,
           81.59929193592579,
           81.59929193592579,
           81.69191786489311,
           98.17508452872461,
           98.17508452872461,
           98.17508452872461,
           98.17508452872461,
           98.17508452872461,
           98.17508452872461,
           98.4373844166618,
           117.19491801918636,
           117.19491801918636,
           117.19491801918636,
           117.24653005323361
          ]
         },
         "hovertemplate": "algo=greedy_dp<br>i_generated=%{x}<br>mean=%{y}<extra></extra>",
         "legendgroup": "greedy_dp",
         "marker": {
          "color": "#00cc96",
          "pattern": {
           "shape": ""
          }
         },
         "name": "Gredy DP truncated_urn",
         "offsetgroup": "greedy_dp",
         "orientation": "v",
         "showlegend": true,
         "textposition": "auto",
         "type": "bar",
         "x": [
          0,
          1,
          2,
          3,
          4,
          5,
          6,
          7,
          0,
          1,
          2,
          0,
          1,
          2,
          3,
          4,
          5,
          6,
          0,
          1,
          2,
          3
         ],
         "xaxis": "x2",
         "y": [
          40.699999999999996,
          41.699999999999996,
          42.699999999999996,
          43.699999999999996,
          48.699999999999996,
          49.699999999999996,
          58.699999999999996,
          63.699999999999996,
          205.39999999999998,
          209.39999999999998,
          222.02499999999998,
          543.4035714285715,
          546.4035714285715,
          549.4035714285715,
          550.4035714285715,
          551.4035714285715,
          566.4035714285715,
          583.6892857142858,
          927.7178571428573,
          928.7178571428573,
          958.7178571428573,
          972.6178571428572
         ],
         "yaxis": "y2"
        },
        {
         "alignmentgroup": "True",
         "error_y": {
          "array": [
           6.7222681357477025,
           6.7222681357477025,
           6.7222681357477025,
           6.7222681357477025,
           6.7222681357477025,
           6.7222681357477025,
           6.7222681357477025,
           6.7222681357477025,
           81.69191786489311,
           81.69191786489311,
           81.69191786489311,
           81.69191786489311,
           81.69191786489311,
           81.69191786489311,
           81.69191786489311,
           81.69191786489311,
           98.4373844166618,
           98.4373844166618,
           98.4373844166618,
           98.4373844166618,
           98.4373844166618,
           98.4373844166618,
           98.4373844166618,
           98.4373844166618,
           117.24653005323361,
           117.24653005323361,
           117.24653005323361,
           117.4359112621359
          ]
         },
         "hovertemplate": "algo=pairs<br>i_generated=%{x}<br>mean=%{y}<extra></extra>",
         "legendgroup": "pairs",
         "marker": {
          "color": "#ab63fa",
          "pattern": {
           "shape": ""
          }
         },
         "name": "Pairs truncated_urn",
         "offsetgroup": "pairs",
         "orientation": "v",
         "showlegend": true,
         "textposition": "auto",
         "type": "bar",
         "x": [
          0,
          1,
          2,
          3,
          4,
          5,
          6,
          7,
          0,
          1,
          2,
          3,
          4,
          5,
          6,
          7,
          0,
          1,
          2,
          3,
          4,
          5,
          6,
          7,
          0,
          1,
          2,
          3
         ],
         "xaxis": "x2",
         "y": [
          64.69999999999999,
          66.69999999999999,
          67.69999999999999,
          69.69999999999999,
          77.69999999999999,
          79.69999999999999,
          88.69999999999999,
          114.69999999999999,
          231.02499999999998,
          233.02499999999998,
          237.02499999999998,
          245.02499999999998,
          250.02499999999998,
          275.025,
          321.025,
          379.025,
          587.6892857142858,
          589.6892857142858,
          600.6892857142858,
          604.6892857142858,
          606.6892857142858,
          615.6892857142858,
          621.6892857142858,
          741.6892857142858,
          999.6178571428572,
          1001.6178571428572,
          1026.6178571428572,
          1072.395634920635
         ],
         "yaxis": "y2"
        },
        {
         "alignmentgroup": "True",
         "error_y": {
          "array": [
           0,
           0,
           0,
           0,
           0.31622776601683794,
           0.5773502691896258,
           0.7149203529842406,
           2.228601953392904,
           81.69191786489311,
           81.69252991825167,
           81.69695016747362,
           81.70517799448889,
           81.71360895768152,
           82.05729463718995
          ]
         },
         "hovertemplate": "algo=basin_hopping<br>i_generated=%{x}<br>mean=%{y}<extra></extra>",
         "legendgroup": "basin_hopping",
         "marker": {
          "color": "#636efa",
          "pattern": {
           "shape": ""
          }
         },
         "name": "Basinhopping euclidean",
         "offsetgroup": "basin_hopping",
         "orientation": "v",
         "showlegend": true,
         "textposition": "auto",
         "type": "bar",
         "x": [
          0,
          1,
          2,
          3,
          4,
          5,
          6,
          7,
          0,
          1,
          2,
          3,
          4,
          5
         ],
         "xaxis": "x3",
         "y": [
          1,
          2,
          3,
          4,
          5.1,
          6.8,
          8,
          17.3,
          380.025,
          381.125,
          382.625,
          384.925,
          387.325,
          401.75357142857143
         ],
         "yaxis": "y3"
        },
        {
         "alignmentgroup": "True",
         "error_y": {
          "array": [
           2.228601953392904,
           2.228601953392904,
           2.228601953392904,
           2.228601953392904,
           2.228601953392904,
           2.465314944946746,
           6.659162443163889,
           6.7222681357477025,
           6.7222681357477025,
           6.7222681357477025,
           7.192588778272628,
           7.2203416354998975,
           10.086294331087771,
           10.697871023920808,
           79.80977383754448,
           81.59929193592579,
           82.09797428044362,
           82.09939533447074,
           82.20110598645755,
           87.09560291782272,
           90.41091160091207,
           98.17508452872461,
           98.4373844166618,
           98.45121062239852,
           98.58001141607589,
           100.40267142148873,
           117.19491801918636
          ]
         },
         "hovertemplate": "algo=basin_hopping_step<br>i_generated=%{x}<br>mean=%{y}<extra></extra>",
         "legendgroup": "basin_hopping_step",
         "marker": {
          "color": "#EF553B",
          "pattern": {
           "shape": ""
          }
         },
         "name": "Basinhopping step euclidean",
         "offsetgroup": "basin_hopping_step",
         "orientation": "v",
         "showlegend": true,
         "textposition": "auto",
         "type": "bar",
         "x": [
          0,
          1,
          2,
          3,
          4,
          5,
          6,
          7,
          0,
          1,
          2,
          3,
          4,
          5,
          6,
          7,
          0,
          1,
          2,
          3,
          4,
          5,
          0,
          1,
          2,
          3,
          4
         ],
         "xaxis": "x3",
         "y": [
          18.3,
          19.3,
          20.3,
          21.3,
          22.3,
          28.3,
          35.9,
          39.699999999999996,
          115.69999999999999,
          117.69999999999999,
          128.79999999999998,
          129.99999999999997,
          137.39999999999998,
          142.79999999999998,
          192.2,
          201.39999999999998,
          409.4535714285714,
          410.75357142857143,
          418.35357142857146,
          462.55357142857144,
          503.15357142857147,
          542.4035714285715,
          742.6892857142858,
          750.1892857142858,
          761.5892857142858,
          836.2892857142858,
          917.7178571428573
         ],
         "yaxis": "y3"
        },
        {
         "alignmentgroup": "True",
         "error_y": {
          "array": [
           6.7222681357477025,
           6.7222681357477025,
           6.7222681357477025,
           6.7222681357477025,
           6.7222681357477025,
           6.7222681357477025,
           6.7222681357477025,
           6.7222681357477025,
           81.59929193592579,
           81.59929193592579,
           81.69191786489311,
           98.17508452872461,
           98.17508452872461,
           98.17508452872461,
           98.17508452872461,
           98.17508452872461,
           98.17508452872461,
           98.4373844166618,
           117.19491801918636,
           117.19491801918636,
           117.19491801918636,
           117.24653005323361
          ]
         },
         "hovertemplate": "algo=greedy_dp<br>i_generated=%{x}<br>mean=%{y}<extra></extra>",
         "legendgroup": "greedy_dp",
         "marker": {
          "color": "#00cc96",
          "pattern": {
           "shape": ""
          }
         },
         "name": "Gredy DP euclidean",
         "offsetgroup": "greedy_dp",
         "orientation": "v",
         "showlegend": true,
         "textposition": "auto",
         "type": "bar",
         "x": [
          0,
          1,
          2,
          3,
          4,
          5,
          6,
          7,
          0,
          1,
          2,
          0,
          1,
          2,
          3,
          4,
          5,
          6,
          0,
          1,
          2,
          3
         ],
         "xaxis": "x3",
         "y": [
          40.699999999999996,
          41.699999999999996,
          42.699999999999996,
          43.699999999999996,
          48.699999999999996,
          49.699999999999996,
          58.699999999999996,
          63.699999999999996,
          205.39999999999998,
          209.39999999999998,
          222.02499999999998,
          543.4035714285715,
          546.4035714285715,
          549.4035714285715,
          550.4035714285715,
          551.4035714285715,
          566.4035714285715,
          583.6892857142858,
          927.7178571428573,
          928.7178571428573,
          958.7178571428573,
          972.6178571428572
         ],
         "yaxis": "y3"
        },
        {
         "alignmentgroup": "True",
         "error_y": {
          "array": [
           6.7222681357477025,
           6.7222681357477025,
           6.7222681357477025,
           6.7222681357477025,
           6.7222681357477025,
           6.7222681357477025,
           6.7222681357477025,
           6.7222681357477025,
           81.69191786489311,
           81.69191786489311,
           81.69191786489311,
           81.69191786489311,
           81.69191786489311,
           81.69191786489311,
           81.69191786489311,
           81.69191786489311,
           98.4373844166618,
           98.4373844166618,
           98.4373844166618,
           98.4373844166618,
           98.4373844166618,
           98.4373844166618,
           98.4373844166618,
           98.4373844166618,
           117.24653005323361,
           117.24653005323361,
           117.24653005323361,
           117.4359112621359
          ]
         },
         "hovertemplate": "algo=pairs<br>i_generated=%{x}<br>mean=%{y}<extra></extra>",
         "legendgroup": "pairs",
         "marker": {
          "color": "#ab63fa",
          "pattern": {
           "shape": ""
          }
         },
         "name": "Pairs euclidean",
         "offsetgroup": "pairs",
         "orientation": "v",
         "showlegend": true,
         "textposition": "auto",
         "type": "bar",
         "x": [
          0,
          1,
          2,
          3,
          4,
          5,
          6,
          7,
          0,
          1,
          2,
          3,
          4,
          5,
          6,
          7,
          0,
          1,
          2,
          3,
          4,
          5,
          6,
          7,
          0,
          1,
          2,
          3
         ],
         "xaxis": "x3",
         "y": [
          64.69999999999999,
          66.69999999999999,
          67.69999999999999,
          69.69999999999999,
          77.69999999999999,
          79.69999999999999,
          88.69999999999999,
          114.69999999999999,
          231.02499999999998,
          233.02499999999998,
          237.02499999999998,
          245.02499999999998,
          250.02499999999998,
          275.025,
          321.025,
          379.025,
          587.6892857142858,
          589.6892857142858,
          600.6892857142858,
          604.6892857142858,
          606.6892857142858,
          615.6892857142858,
          621.6892857142858,
          741.6892857142858,
          999.6178571428572,
          1001.6178571428572,
          1026.6178571428572,
          1072.395634920635
         ],
         "yaxis": "y3"
        },
        {
         "alignmentgroup": "True",
         "error_y": {
          "array": [
           0,
           0,
           0,
           0,
           0.31622776601683794,
           0.5773502691896258,
           0.7149203529842406,
           2.228601953392904,
           81.69191786489311,
           81.69252991825167,
           81.69695016747362,
           81.70517799448889,
           81.71360895768152,
           82.05729463718995
          ]
         },
         "hovertemplate": "algo=basin_hopping<br>i_generated=%{x}<br>mean=%{y}<extra></extra>",
         "legendgroup": "basin_hopping",
         "marker": {
          "color": "#636efa",
          "pattern": {
           "shape": ""
          }
         },
         "name": "Basinhopping resampling",
         "offsetgroup": "basin_hopping",
         "orientation": "v",
         "showlegend": true,
         "textposition": "auto",
         "type": "bar",
         "x": [
          0,
          1,
          2,
          3,
          4,
          5,
          6,
          7,
          0,
          1,
          2,
          3,
          4,
          5
         ],
         "xaxis": "x4",
         "y": [
          1,
          2,
          3,
          4,
          5.1,
          6.8,
          8,
          17.3,
          380.025,
          381.125,
          382.625,
          384.925,
          387.325,
          401.75357142857143
         ],
         "yaxis": "y4"
        },
        {
         "alignmentgroup": "True",
         "error_y": {
          "array": [
           2.228601953392904,
           2.228601953392904,
           2.228601953392904,
           2.228601953392904,
           2.228601953392904,
           2.465314944946746,
           6.659162443163889,
           6.7222681357477025,
           6.7222681357477025,
           6.7222681357477025,
           7.192588778272628,
           7.2203416354998975,
           10.086294331087771,
           10.697871023920808,
           79.80977383754448,
           81.59929193592579,
           82.09797428044362,
           82.09939533447074,
           82.20110598645755,
           87.09560291782272,
           90.41091160091207,
           98.17508452872461,
           98.4373844166618,
           98.45121062239852,
           98.58001141607589,
           100.40267142148873,
           117.19491801918636
          ]
         },
         "hovertemplate": "algo=basin_hopping_step<br>i_generated=%{x}<br>mean=%{y}<extra></extra>",
         "legendgroup": "basin_hopping_step",
         "marker": {
          "color": "#EF553B",
          "pattern": {
           "shape": ""
          }
         },
         "name": "Basinhopping step resampling",
         "offsetgroup": "basin_hopping_step",
         "orientation": "v",
         "showlegend": true,
         "textposition": "auto",
         "type": "bar",
         "x": [
          0,
          1,
          2,
          3,
          4,
          5,
          6,
          7,
          0,
          1,
          2,
          3,
          4,
          5,
          6,
          7,
          0,
          1,
          2,
          3,
          4,
          5,
          0,
          1,
          2,
          3,
          4
         ],
         "xaxis": "x4",
         "y": [
          18.3,
          19.3,
          20.3,
          21.3,
          22.3,
          28.3,
          35.9,
          39.699999999999996,
          115.69999999999999,
          117.69999999999999,
          128.79999999999998,
          129.99999999999997,
          137.39999999999998,
          142.79999999999998,
          192.2,
          201.39999999999998,
          409.4535714285714,
          410.75357142857143,
          418.35357142857146,
          462.55357142857144,
          503.15357142857147,
          542.4035714285715,
          742.6892857142858,
          750.1892857142858,
          761.5892857142858,
          836.2892857142858,
          917.7178571428573
         ],
         "yaxis": "y4"
        },
        {
         "alignmentgroup": "True",
         "error_y": {
          "array": [
           6.7222681357477025,
           6.7222681357477025,
           6.7222681357477025,
           6.7222681357477025,
           6.7222681357477025,
           6.7222681357477025,
           6.7222681357477025,
           6.7222681357477025,
           81.59929193592579,
           81.59929193592579,
           81.69191786489311,
           98.17508452872461,
           98.17508452872461,
           98.17508452872461,
           98.17508452872461,
           98.17508452872461,
           98.17508452872461,
           98.4373844166618,
           117.19491801918636,
           117.19491801918636,
           117.19491801918636,
           117.24653005323361
          ]
         },
         "hovertemplate": "algo=greedy_dp<br>i_generated=%{x}<br>mean=%{y}<extra></extra>",
         "legendgroup": "greedy_dp",
         "marker": {
          "color": "#00cc96",
          "pattern": {
           "shape": ""
          }
         },
         "name": "Gredy DP resampling",
         "offsetgroup": "greedy_dp",
         "orientation": "v",
         "showlegend": true,
         "textposition": "auto",
         "type": "bar",
         "x": [
          0,
          1,
          2,
          3,
          4,
          5,
          6,
          7,
          0,
          1,
          2,
          0,
          1,
          2,
          3,
          4,
          5,
          6,
          0,
          1,
          2,
          3
         ],
         "xaxis": "x4",
         "y": [
          40.699999999999996,
          41.699999999999996,
          42.699999999999996,
          43.699999999999996,
          48.699999999999996,
          49.699999999999996,
          58.699999999999996,
          63.699999999999996,
          205.39999999999998,
          209.39999999999998,
          222.02499999999998,
          543.4035714285715,
          546.4035714285715,
          549.4035714285715,
          550.4035714285715,
          551.4035714285715,
          566.4035714285715,
          583.6892857142858,
          927.7178571428573,
          928.7178571428573,
          958.7178571428573,
          972.6178571428572
         ],
         "yaxis": "y4"
        },
        {
         "alignmentgroup": "True",
         "error_y": {
          "array": [
           6.7222681357477025,
           6.7222681357477025,
           6.7222681357477025,
           6.7222681357477025,
           6.7222681357477025,
           6.7222681357477025,
           6.7222681357477025,
           6.7222681357477025,
           81.69191786489311,
           81.69191786489311,
           81.69191786489311,
           81.69191786489311,
           81.69191786489311,
           81.69191786489311,
           81.69191786489311,
           81.69191786489311,
           98.4373844166618,
           98.4373844166618,
           98.4373844166618,
           98.4373844166618,
           98.4373844166618,
           98.4373844166618,
           98.4373844166618,
           98.4373844166618,
           117.24653005323361,
           117.24653005323361,
           117.24653005323361,
           117.4359112621359
          ]
         },
         "hovertemplate": "algo=pairs<br>i_generated=%{x}<br>mean=%{y}<extra></extra>",
         "legendgroup": "pairs",
         "marker": {
          "color": "#ab63fa",
          "pattern": {
           "shape": ""
          }
         },
         "name": "Pairs resampling",
         "offsetgroup": "pairs",
         "orientation": "v",
         "showlegend": true,
         "textposition": "auto",
         "type": "bar",
         "x": [
          0,
          1,
          2,
          3,
          4,
          5,
          6,
          7,
          0,
          1,
          2,
          3,
          4,
          5,
          6,
          7,
          0,
          1,
          2,
          3,
          4,
          5,
          6,
          7,
          0,
          1,
          2,
          3
         ],
         "xaxis": "x4",
         "y": [
          64.69999999999999,
          66.69999999999999,
          67.69999999999999,
          69.69999999999999,
          77.69999999999999,
          79.69999999999999,
          88.69999999999999,
          114.69999999999999,
          231.02499999999998,
          233.02499999999998,
          237.02499999999998,
          245.02499999999998,
          250.02499999999998,
          275.025,
          321.025,
          379.025,
          587.6892857142858,
          589.6892857142858,
          600.6892857142858,
          604.6892857142858,
          606.6892857142858,
          615.6892857142858,
          621.6892857142858,
          741.6892857142858,
          999.6178571428572,
          1001.6178571428572,
          1026.6178571428572,
          1072.395634920635
         ],
         "yaxis": "y4"
        }
       ],
       "layout": {
        "legend": {
         "title": {
          "text": "Heuristic algorithm"
         }
        },
        "showlegend": true,
        "template": {
         "data": {
          "bar": [
           {
            "error_x": {
             "color": "#2a3f5f"
            },
            "error_y": {
             "color": "#2a3f5f"
            },
            "marker": {
             "line": {
              "color": "#E5ECF6",
              "width": 0.5
             },
             "pattern": {
              "fillmode": "overlay",
              "size": 10,
              "solidity": 0.2
             }
            },
            "type": "bar"
           }
          ],
          "barpolar": [
           {
            "marker": {
             "line": {
              "color": "#E5ECF6",
              "width": 0.5
             },
             "pattern": {
              "fillmode": "overlay",
              "size": 10,
              "solidity": 0.2
             }
            },
            "type": "barpolar"
           }
          ],
          "carpet": [
           {
            "aaxis": {
             "endlinecolor": "#2a3f5f",
             "gridcolor": "white",
             "linecolor": "white",
             "minorgridcolor": "white",
             "startlinecolor": "#2a3f5f"
            },
            "baxis": {
             "endlinecolor": "#2a3f5f",
             "gridcolor": "white",
             "linecolor": "white",
             "minorgridcolor": "white",
             "startlinecolor": "#2a3f5f"
            },
            "type": "carpet"
           }
          ],
          "choropleth": [
           {
            "colorbar": {
             "outlinewidth": 0,
             "ticks": ""
            },
            "type": "choropleth"
           }
          ],
          "contour": [
           {
            "colorbar": {
             "outlinewidth": 0,
             "ticks": ""
            },
            "colorscale": [
             [
              0,
              "#0d0887"
             ],
             [
              0.1111111111111111,
              "#46039f"
             ],
             [
              0.2222222222222222,
              "#7201a8"
             ],
             [
              0.3333333333333333,
              "#9c179e"
             ],
             [
              0.4444444444444444,
              "#bd3786"
             ],
             [
              0.5555555555555556,
              "#d8576b"
             ],
             [
              0.6666666666666666,
              "#ed7953"
             ],
             [
              0.7777777777777778,
              "#fb9f3a"
             ],
             [
              0.8888888888888888,
              "#fdca26"
             ],
             [
              1,
              "#f0f921"
             ]
            ],
            "type": "contour"
           }
          ],
          "contourcarpet": [
           {
            "colorbar": {
             "outlinewidth": 0,
             "ticks": ""
            },
            "type": "contourcarpet"
           }
          ],
          "heatmap": [
           {
            "colorbar": {
             "outlinewidth": 0,
             "ticks": ""
            },
            "colorscale": [
             [
              0,
              "#0d0887"
             ],
             [
              0.1111111111111111,
              "#46039f"
             ],
             [
              0.2222222222222222,
              "#7201a8"
             ],
             [
              0.3333333333333333,
              "#9c179e"
             ],
             [
              0.4444444444444444,
              "#bd3786"
             ],
             [
              0.5555555555555556,
              "#d8576b"
             ],
             [
              0.6666666666666666,
              "#ed7953"
             ],
             [
              0.7777777777777778,
              "#fb9f3a"
             ],
             [
              0.8888888888888888,
              "#fdca26"
             ],
             [
              1,
              "#f0f921"
             ]
            ],
            "type": "heatmap"
           }
          ],
          "heatmapgl": [
           {
            "colorbar": {
             "outlinewidth": 0,
             "ticks": ""
            },
            "colorscale": [
             [
              0,
              "#0d0887"
             ],
             [
              0.1111111111111111,
              "#46039f"
             ],
             [
              0.2222222222222222,
              "#7201a8"
             ],
             [
              0.3333333333333333,
              "#9c179e"
             ],
             [
              0.4444444444444444,
              "#bd3786"
             ],
             [
              0.5555555555555556,
              "#d8576b"
             ],
             [
              0.6666666666666666,
              "#ed7953"
             ],
             [
              0.7777777777777778,
              "#fb9f3a"
             ],
             [
              0.8888888888888888,
              "#fdca26"
             ],
             [
              1,
              "#f0f921"
             ]
            ],
            "type": "heatmapgl"
           }
          ],
          "histogram": [
           {
            "marker": {
             "pattern": {
              "fillmode": "overlay",
              "size": 10,
              "solidity": 0.2
             }
            },
            "type": "histogram"
           }
          ],
          "histogram2d": [
           {
            "colorbar": {
             "outlinewidth": 0,
             "ticks": ""
            },
            "colorscale": [
             [
              0,
              "#0d0887"
             ],
             [
              0.1111111111111111,
              "#46039f"
             ],
             [
              0.2222222222222222,
              "#7201a8"
             ],
             [
              0.3333333333333333,
              "#9c179e"
             ],
             [
              0.4444444444444444,
              "#bd3786"
             ],
             [
              0.5555555555555556,
              "#d8576b"
             ],
             [
              0.6666666666666666,
              "#ed7953"
             ],
             [
              0.7777777777777778,
              "#fb9f3a"
             ],
             [
              0.8888888888888888,
              "#fdca26"
             ],
             [
              1,
              "#f0f921"
             ]
            ],
            "type": "histogram2d"
           }
          ],
          "histogram2dcontour": [
           {
            "colorbar": {
             "outlinewidth": 0,
             "ticks": ""
            },
            "colorscale": [
             [
              0,
              "#0d0887"
             ],
             [
              0.1111111111111111,
              "#46039f"
             ],
             [
              0.2222222222222222,
              "#7201a8"
             ],
             [
              0.3333333333333333,
              "#9c179e"
             ],
             [
              0.4444444444444444,
              "#bd3786"
             ],
             [
              0.5555555555555556,
              "#d8576b"
             ],
             [
              0.6666666666666666,
              "#ed7953"
             ],
             [
              0.7777777777777778,
              "#fb9f3a"
             ],
             [
              0.8888888888888888,
              "#fdca26"
             ],
             [
              1,
              "#f0f921"
             ]
            ],
            "type": "histogram2dcontour"
           }
          ],
          "mesh3d": [
           {
            "colorbar": {
             "outlinewidth": 0,
             "ticks": ""
            },
            "type": "mesh3d"
           }
          ],
          "parcoords": [
           {
            "line": {
             "colorbar": {
              "outlinewidth": 0,
              "ticks": ""
             }
            },
            "type": "parcoords"
           }
          ],
          "pie": [
           {
            "automargin": true,
            "type": "pie"
           }
          ],
          "scatter": [
           {
            "fillpattern": {
             "fillmode": "overlay",
             "size": 10,
             "solidity": 0.2
            },
            "type": "scatter"
           }
          ],
          "scatter3d": [
           {
            "line": {
             "colorbar": {
              "outlinewidth": 0,
              "ticks": ""
             }
            },
            "marker": {
             "colorbar": {
              "outlinewidth": 0,
              "ticks": ""
             }
            },
            "type": "scatter3d"
           }
          ],
          "scattercarpet": [
           {
            "marker": {
             "colorbar": {
              "outlinewidth": 0,
              "ticks": ""
             }
            },
            "type": "scattercarpet"
           }
          ],
          "scattergeo": [
           {
            "marker": {
             "colorbar": {
              "outlinewidth": 0,
              "ticks": ""
             }
            },
            "type": "scattergeo"
           }
          ],
          "scattergl": [
           {
            "marker": {
             "colorbar": {
              "outlinewidth": 0,
              "ticks": ""
             }
            },
            "type": "scattergl"
           }
          ],
          "scattermapbox": [
           {
            "marker": {
             "colorbar": {
              "outlinewidth": 0,
              "ticks": ""
             }
            },
            "type": "scattermapbox"
           }
          ],
          "scatterpolar": [
           {
            "marker": {
             "colorbar": {
              "outlinewidth": 0,
              "ticks": ""
             }
            },
            "type": "scatterpolar"
           }
          ],
          "scatterpolargl": [
           {
            "marker": {
             "colorbar": {
              "outlinewidth": 0,
              "ticks": ""
             }
            },
            "type": "scatterpolargl"
           }
          ],
          "scatterternary": [
           {
            "marker": {
             "colorbar": {
              "outlinewidth": 0,
              "ticks": ""
             }
            },
            "type": "scatterternary"
           }
          ],
          "surface": [
           {
            "colorbar": {
             "outlinewidth": 0,
             "ticks": ""
            },
            "colorscale": [
             [
              0,
              "#0d0887"
             ],
             [
              0.1111111111111111,
              "#46039f"
             ],
             [
              0.2222222222222222,
              "#7201a8"
             ],
             [
              0.3333333333333333,
              "#9c179e"
             ],
             [
              0.4444444444444444,
              "#bd3786"
             ],
             [
              0.5555555555555556,
              "#d8576b"
             ],
             [
              0.6666666666666666,
              "#ed7953"
             ],
             [
              0.7777777777777778,
              "#fb9f3a"
             ],
             [
              0.8888888888888888,
              "#fdca26"
             ],
             [
              1,
              "#f0f921"
             ]
            ],
            "type": "surface"
           }
          ],
          "table": [
           {
            "cells": {
             "fill": {
              "color": "#EBF0F8"
             },
             "line": {
              "color": "white"
             }
            },
            "header": {
             "fill": {
              "color": "#C8D4E3"
             },
             "line": {
              "color": "white"
             }
            },
            "type": "table"
           }
          ]
         },
         "layout": {
          "annotationdefaults": {
           "arrowcolor": "#2a3f5f",
           "arrowhead": 0,
           "arrowwidth": 1
          },
          "autotypenumbers": "strict",
          "coloraxis": {
           "colorbar": {
            "outlinewidth": 0,
            "ticks": ""
           }
          },
          "colorscale": {
           "diverging": [
            [
             0,
             "#8e0152"
            ],
            [
             0.1,
             "#c51b7d"
            ],
            [
             0.2,
             "#de77ae"
            ],
            [
             0.3,
             "#f1b6da"
            ],
            [
             0.4,
             "#fde0ef"
            ],
            [
             0.5,
             "#f7f7f7"
            ],
            [
             0.6,
             "#e6f5d0"
            ],
            [
             0.7,
             "#b8e186"
            ],
            [
             0.8,
             "#7fbc41"
            ],
            [
             0.9,
             "#4d9221"
            ],
            [
             1,
             "#276419"
            ]
           ],
           "sequential": [
            [
             0,
             "#0d0887"
            ],
            [
             0.1111111111111111,
             "#46039f"
            ],
            [
             0.2222222222222222,
             "#7201a8"
            ],
            [
             0.3333333333333333,
             "#9c179e"
            ],
            [
             0.4444444444444444,
             "#bd3786"
            ],
            [
             0.5555555555555556,
             "#d8576b"
            ],
            [
             0.6666666666666666,
             "#ed7953"
            ],
            [
             0.7777777777777778,
             "#fb9f3a"
            ],
            [
             0.8888888888888888,
             "#fdca26"
            ],
            [
             1,
             "#f0f921"
            ]
           ],
           "sequentialminus": [
            [
             0,
             "#0d0887"
            ],
            [
             0.1111111111111111,
             "#46039f"
            ],
            [
             0.2222222222222222,
             "#7201a8"
            ],
            [
             0.3333333333333333,
             "#9c179e"
            ],
            [
             0.4444444444444444,
             "#bd3786"
            ],
            [
             0.5555555555555556,
             "#d8576b"
            ],
            [
             0.6666666666666666,
             "#ed7953"
            ],
            [
             0.7777777777777778,
             "#fb9f3a"
            ],
            [
             0.8888888888888888,
             "#fdca26"
            ],
            [
             1,
             "#f0f921"
            ]
           ]
          },
          "colorway": [
           "#636efa",
           "#EF553B",
           "#00cc96",
           "#ab63fa",
           "#FFA15A",
           "#19d3f3",
           "#FF6692",
           "#B6E880",
           "#FF97FF",
           "#FECB52"
          ],
          "font": {
           "color": "#2a3f5f"
          },
          "geo": {
           "bgcolor": "white",
           "lakecolor": "white",
           "landcolor": "#E5ECF6",
           "showlakes": true,
           "showland": true,
           "subunitcolor": "white"
          },
          "hoverlabel": {
           "align": "left"
          },
          "hovermode": "closest",
          "mapbox": {
           "style": "light"
          },
          "paper_bgcolor": "white",
          "plot_bgcolor": "#E5ECF6",
          "polar": {
           "angularaxis": {
            "gridcolor": "white",
            "linecolor": "white",
            "ticks": ""
           },
           "bgcolor": "#E5ECF6",
           "radialaxis": {
            "gridcolor": "white",
            "linecolor": "white",
            "ticks": ""
           }
          },
          "scene": {
           "xaxis": {
            "backgroundcolor": "#E5ECF6",
            "gridcolor": "white",
            "gridwidth": 2,
            "linecolor": "white",
            "showbackground": true,
            "ticks": "",
            "zerolinecolor": "white"
           },
           "yaxis": {
            "backgroundcolor": "#E5ECF6",
            "gridcolor": "white",
            "gridwidth": 2,
            "linecolor": "white",
            "showbackground": true,
            "ticks": "",
            "zerolinecolor": "white"
           },
           "zaxis": {
            "backgroundcolor": "#E5ECF6",
            "gridcolor": "white",
            "gridwidth": 2,
            "linecolor": "white",
            "showbackground": true,
            "ticks": "",
            "zerolinecolor": "white"
           }
          },
          "shapedefaults": {
           "line": {
            "color": "#2a3f5f"
           }
          },
          "ternary": {
           "aaxis": {
            "gridcolor": "white",
            "linecolor": "white",
            "ticks": ""
           },
           "baxis": {
            "gridcolor": "white",
            "linecolor": "white",
            "ticks": ""
           },
           "bgcolor": "#E5ECF6",
           "caxis": {
            "gridcolor": "white",
            "linecolor": "white",
            "ticks": ""
           }
          },
          "title": {
           "x": 0.05
          },
          "xaxis": {
           "automargin": true,
           "gridcolor": "white",
           "linecolor": "white",
           "ticks": "",
           "title": {
            "standoff": 15
           },
           "zerolinecolor": "white",
           "zerolinewidth": 2
          },
          "yaxis": {
           "automargin": true,
           "gridcolor": "white",
           "linecolor": "white",
           "ticks": "",
           "title": {
            "standoff": 15
           },
           "zerolinecolor": "white",
           "zerolinewidth": 2
          }
         }
        },
        "title": {
         "text": "Average steps per iterations needed to change reference's outcome"
        },
        "xaxis": {
         "anchor": "y",
         "domain": [
          0,
          0.45
         ],
         "title": {
          "text": "Number of generated references"
         }
        },
        "xaxis2": {
         "anchor": "y2",
         "domain": [
          0.55,
          1
         ],
         "title": {
          "text": "Number of generated references"
         }
        },
        "xaxis3": {
         "anchor": "y3",
         "domain": [
          0,
          0.45
         ],
         "title": {
          "text": "Number of generated references"
         }
        },
        "xaxis4": {
         "anchor": "y4",
         "domain": [
          0.55,
          1
         ],
         "title": {
          "text": "Number of generated references"
         }
        },
        "yaxis": {
         "anchor": "x",
         "domain": [
          0.575,
          1
         ],
         "title": {
          "text": "Steps"
         }
        },
        "yaxis2": {
         "anchor": "x2",
         "domain": [
          0.575,
          1
         ],
         "title": {
          "text": "Steps"
         }
        },
        "yaxis3": {
         "anchor": "x3",
         "domain": [
          0,
          0.425
         ],
         "title": {
          "text": "Steps"
         }
        },
        "yaxis4": {
         "anchor": "x4",
         "domain": [
          0,
          0.425
         ],
         "title": {
          "text": "Steps"
         }
        }
       }
      }
     },
     "metadata": {},
     "output_type": "display_data"
    }
   ],
   "source": [
    "df = steps_df.groupby(level=[0, 1, 2]).agg([np.mean, np.std])\n",
    "df['std_squared'] = df['std'] ** 2\n",
    "df = df.cumsum()\n",
    "df['std'] = np.sqrt(df['std_squared'])\n",
    "df = df.drop(columns='std_squared')\n",
    "\n",
    "figs = []\n",
    "\n",
    "for family in families:\n",
    "    dff = df.loc[family]\n",
    "    fig = px.bar(df.reset_index(), x=\"i_generated\", y=\"mean\",\n",
    "             color='algo', barmode='group',error_y=\"std\",\n",
    "             height=400)\n",
    "    fig.for_each_trace(lambda t: t.update(name=algo_name.get(t.name, t.name) + f' {family}'))\n",
    "    fig.update_layout(xaxis_title='Number of generated references', title=\"Average steps per iterations needed to change reference's outcome\",\n",
    "                    yaxis_title=\"Steps\", legend_title='Heuristic algorithm')\n",
    "    figs.append(fig)\n",
    "\n",
    "figs = [[figs[0], figs[1]], [figs[2], figs[3]]]\n",
    "    \n",
    "\n",
    "fig = create_subplots(figs)\n",
    "fig.show()"
   ]
  },
  {
   "cell_type": "markdown",
   "metadata": {},
   "source": [
    "# To reference"
   ]
  },
  {
   "cell_type": "markdown",
   "metadata": {},
   "source": [
    "## Mean proportion to the reference"
   ]
  },
  {
   "cell_type": "code",
   "execution_count": 78,
   "metadata": {},
   "outputs": [
    {
     "data": {
      "application/vnd.plotly.v1+json": {
       "config": {
        "plotlyServerURL": "https://plot.ly"
       },
       "data": [
        {
         "alignmentgroup": "True",
         "error_y": {
          "array": [
           0.03526205320428953,
           0.12459041770173533,
           0.0952900269855877,
           0.13779628216718187,
           0.09526998567293468,
           0.09669244955329698,
           null,
           null
          ]
         },
         "hovertemplate": "algo=basin_hopping<br>i_generated=%{x}<br>mean=%{y}<extra></extra>",
         "legendgroup": "basin_hopping",
         "marker": {
          "color": "#636efa",
          "pattern": {
           "shape": ""
          }
         },
         "name": "Basinhopping",
         "offsetgroup": "basin_hopping",
         "orientation": "v",
         "showlegend": true,
         "textposition": "auto",
         "type": "bar",
         "x": [
          0,
          1,
          2,
          3,
          4,
          5,
          6,
          7
         ],
         "xaxis": "x",
         "y": [
          0.975065963060686,
          0.9119012707722385,
          0.9326197757390418,
          0.885513506028172,
          0.8063597636047012,
          0.7994515015794705,
          0.9166666666666666,
          0.7545991272353898
         ],
         "yaxis": "y"
        },
        {
         "alignmentgroup": "True",
         "error_y": {
          "array": [
           0.18663157163058472,
           0.13976309287893693,
           0.20609250203185878,
           0.23113184335510367,
           0.16139749272990553,
           0.10916177013094465,
           0.062228728678619595,
           0.07737887746849094
          ]
         },
         "hovertemplate": "algo=basin_hopping_step<br>i_generated=%{x}<br>mean=%{y}<extra></extra>",
         "legendgroup": "basin_hopping_step",
         "marker": {
          "color": "#EF553B",
          "pattern": {
           "shape": ""
          }
         },
         "name": "Basinhopping step",
         "offsetgroup": "basin_hopping_step",
         "orientation": "v",
         "showlegend": true,
         "textposition": "auto",
         "type": "bar",
         "x": [
          0,
          1,
          2,
          3,
          4,
          5,
          6,
          7
         ],
         "xaxis": "x",
         "y": [
          0.7973207543552854,
          0.7817226388364134,
          0.6969326003319589,
          0.6796522540094005,
          0.5701987129755499,
          0.5600897486986278,
          0.5308549679997043,
          0.5779364728520907
         ],
         "yaxis": "y"
        },
        {
         "alignmentgroup": "True",
         "error_y": {
          "array": [
           0.17190576286496922,
           0.06436417431901074,
           0.11596579765558859,
           0.08082312306604938,
           0.00787100042884966,
           0.123124211385865,
           0.027985764143061125,
           null
          ]
         },
         "hovertemplate": "algo=greedy_dp<br>i_generated=%{x}<br>mean=%{y}<extra></extra>",
         "legendgroup": "greedy_dp",
         "marker": {
          "color": "#00cc96",
          "pattern": {
           "shape": ""
          }
         },
         "name": "Gredy DP",
         "offsetgroup": "greedy_dp",
         "orientation": "v",
         "showlegend": true,
         "textposition": "auto",
         "type": "bar",
         "x": [
          0,
          1,
          2,
          3,
          4,
          5,
          6,
          7
         ],
         "xaxis": "x",
         "y": [
          0.7465211993888464,
          0.6597510054244391,
          0.6790007203720351,
          0.6559869994263106,
          0.6904530975850358,
          0.7255901033273295,
          0.6516670150950721,
          0.6618421052631579
         ],
         "yaxis": "y"
        },
        {
         "alignmentgroup": "True",
         "error_y": {
          "array": [
           0.2885842377614857,
           0.1531967738344326,
           0.2619351312242143,
           0.18504450524971242,
           0.16267682084794655,
           0.08631143698916707,
           0.15538588027295247,
           0.06502278385374759
          ]
         },
         "hovertemplate": "algo=pairs<br>i_generated=%{x}<br>mean=%{y}<extra></extra>",
         "legendgroup": "pairs",
         "marker": {
          "color": "#ab63fa",
          "pattern": {
           "shape": ""
          }
         },
         "name": "Pairs",
         "offsetgroup": "pairs",
         "orientation": "v",
         "showlegend": true,
         "textposition": "auto",
         "type": "bar",
         "x": [
          0,
          1,
          2,
          3,
          4,
          5,
          6,
          7
         ],
         "xaxis": "x",
         "y": [
          0.5796054688409936,
          0.5210389467988152,
          0.4919838032616314,
          0.4460851508267049,
          0.4034592243020117,
          0.3300161033278617,
          0.3482847431575564,
          0.22572415568822016
         ],
         "yaxis": "y"
        }
       ],
       "layout": {
        "barmode": "group",
        "height": 400,
        "legend": {
         "title": {
          "text": "Heuristic algorithm"
         },
         "tracegroupgap": 0
        },
        "margin": {
         "t": 60
        },
        "template": {
         "data": {
          "bar": [
           {
            "error_x": {
             "color": "#2a3f5f"
            },
            "error_y": {
             "color": "#2a3f5f"
            },
            "marker": {
             "line": {
              "color": "#E5ECF6",
              "width": 0.5
             },
             "pattern": {
              "fillmode": "overlay",
              "size": 10,
              "solidity": 0.2
             }
            },
            "type": "bar"
           }
          ],
          "barpolar": [
           {
            "marker": {
             "line": {
              "color": "#E5ECF6",
              "width": 0.5
             },
             "pattern": {
              "fillmode": "overlay",
              "size": 10,
              "solidity": 0.2
             }
            },
            "type": "barpolar"
           }
          ],
          "carpet": [
           {
            "aaxis": {
             "endlinecolor": "#2a3f5f",
             "gridcolor": "white",
             "linecolor": "white",
             "minorgridcolor": "white",
             "startlinecolor": "#2a3f5f"
            },
            "baxis": {
             "endlinecolor": "#2a3f5f",
             "gridcolor": "white",
             "linecolor": "white",
             "minorgridcolor": "white",
             "startlinecolor": "#2a3f5f"
            },
            "type": "carpet"
           }
          ],
          "choropleth": [
           {
            "colorbar": {
             "outlinewidth": 0,
             "ticks": ""
            },
            "type": "choropleth"
           }
          ],
          "contour": [
           {
            "colorbar": {
             "outlinewidth": 0,
             "ticks": ""
            },
            "colorscale": [
             [
              0,
              "#0d0887"
             ],
             [
              0.1111111111111111,
              "#46039f"
             ],
             [
              0.2222222222222222,
              "#7201a8"
             ],
             [
              0.3333333333333333,
              "#9c179e"
             ],
             [
              0.4444444444444444,
              "#bd3786"
             ],
             [
              0.5555555555555556,
              "#d8576b"
             ],
             [
              0.6666666666666666,
              "#ed7953"
             ],
             [
              0.7777777777777778,
              "#fb9f3a"
             ],
             [
              0.8888888888888888,
              "#fdca26"
             ],
             [
              1,
              "#f0f921"
             ]
            ],
            "type": "contour"
           }
          ],
          "contourcarpet": [
           {
            "colorbar": {
             "outlinewidth": 0,
             "ticks": ""
            },
            "type": "contourcarpet"
           }
          ],
          "heatmap": [
           {
            "colorbar": {
             "outlinewidth": 0,
             "ticks": ""
            },
            "colorscale": [
             [
              0,
              "#0d0887"
             ],
             [
              0.1111111111111111,
              "#46039f"
             ],
             [
              0.2222222222222222,
              "#7201a8"
             ],
             [
              0.3333333333333333,
              "#9c179e"
             ],
             [
              0.4444444444444444,
              "#bd3786"
             ],
             [
              0.5555555555555556,
              "#d8576b"
             ],
             [
              0.6666666666666666,
              "#ed7953"
             ],
             [
              0.7777777777777778,
              "#fb9f3a"
             ],
             [
              0.8888888888888888,
              "#fdca26"
             ],
             [
              1,
              "#f0f921"
             ]
            ],
            "type": "heatmap"
           }
          ],
          "heatmapgl": [
           {
            "colorbar": {
             "outlinewidth": 0,
             "ticks": ""
            },
            "colorscale": [
             [
              0,
              "#0d0887"
             ],
             [
              0.1111111111111111,
              "#46039f"
             ],
             [
              0.2222222222222222,
              "#7201a8"
             ],
             [
              0.3333333333333333,
              "#9c179e"
             ],
             [
              0.4444444444444444,
              "#bd3786"
             ],
             [
              0.5555555555555556,
              "#d8576b"
             ],
             [
              0.6666666666666666,
              "#ed7953"
             ],
             [
              0.7777777777777778,
              "#fb9f3a"
             ],
             [
              0.8888888888888888,
              "#fdca26"
             ],
             [
              1,
              "#f0f921"
             ]
            ],
            "type": "heatmapgl"
           }
          ],
          "histogram": [
           {
            "marker": {
             "pattern": {
              "fillmode": "overlay",
              "size": 10,
              "solidity": 0.2
             }
            },
            "type": "histogram"
           }
          ],
          "histogram2d": [
           {
            "colorbar": {
             "outlinewidth": 0,
             "ticks": ""
            },
            "colorscale": [
             [
              0,
              "#0d0887"
             ],
             [
              0.1111111111111111,
              "#46039f"
             ],
             [
              0.2222222222222222,
              "#7201a8"
             ],
             [
              0.3333333333333333,
              "#9c179e"
             ],
             [
              0.4444444444444444,
              "#bd3786"
             ],
             [
              0.5555555555555556,
              "#d8576b"
             ],
             [
              0.6666666666666666,
              "#ed7953"
             ],
             [
              0.7777777777777778,
              "#fb9f3a"
             ],
             [
              0.8888888888888888,
              "#fdca26"
             ],
             [
              1,
              "#f0f921"
             ]
            ],
            "type": "histogram2d"
           }
          ],
          "histogram2dcontour": [
           {
            "colorbar": {
             "outlinewidth": 0,
             "ticks": ""
            },
            "colorscale": [
             [
              0,
              "#0d0887"
             ],
             [
              0.1111111111111111,
              "#46039f"
             ],
             [
              0.2222222222222222,
              "#7201a8"
             ],
             [
              0.3333333333333333,
              "#9c179e"
             ],
             [
              0.4444444444444444,
              "#bd3786"
             ],
             [
              0.5555555555555556,
              "#d8576b"
             ],
             [
              0.6666666666666666,
              "#ed7953"
             ],
             [
              0.7777777777777778,
              "#fb9f3a"
             ],
             [
              0.8888888888888888,
              "#fdca26"
             ],
             [
              1,
              "#f0f921"
             ]
            ],
            "type": "histogram2dcontour"
           }
          ],
          "mesh3d": [
           {
            "colorbar": {
             "outlinewidth": 0,
             "ticks": ""
            },
            "type": "mesh3d"
           }
          ],
          "parcoords": [
           {
            "line": {
             "colorbar": {
              "outlinewidth": 0,
              "ticks": ""
             }
            },
            "type": "parcoords"
           }
          ],
          "pie": [
           {
            "automargin": true,
            "type": "pie"
           }
          ],
          "scatter": [
           {
            "fillpattern": {
             "fillmode": "overlay",
             "size": 10,
             "solidity": 0.2
            },
            "type": "scatter"
           }
          ],
          "scatter3d": [
           {
            "line": {
             "colorbar": {
              "outlinewidth": 0,
              "ticks": ""
             }
            },
            "marker": {
             "colorbar": {
              "outlinewidth": 0,
              "ticks": ""
             }
            },
            "type": "scatter3d"
           }
          ],
          "scattercarpet": [
           {
            "marker": {
             "colorbar": {
              "outlinewidth": 0,
              "ticks": ""
             }
            },
            "type": "scattercarpet"
           }
          ],
          "scattergeo": [
           {
            "marker": {
             "colorbar": {
              "outlinewidth": 0,
              "ticks": ""
             }
            },
            "type": "scattergeo"
           }
          ],
          "scattergl": [
           {
            "marker": {
             "colorbar": {
              "outlinewidth": 0,
              "ticks": ""
             }
            },
            "type": "scattergl"
           }
          ],
          "scattermapbox": [
           {
            "marker": {
             "colorbar": {
              "outlinewidth": 0,
              "ticks": ""
             }
            },
            "type": "scattermapbox"
           }
          ],
          "scatterpolar": [
           {
            "marker": {
             "colorbar": {
              "outlinewidth": 0,
              "ticks": ""
             }
            },
            "type": "scatterpolar"
           }
          ],
          "scatterpolargl": [
           {
            "marker": {
             "colorbar": {
              "outlinewidth": 0,
              "ticks": ""
             }
            },
            "type": "scatterpolargl"
           }
          ],
          "scatterternary": [
           {
            "marker": {
             "colorbar": {
              "outlinewidth": 0,
              "ticks": ""
             }
            },
            "type": "scatterternary"
           }
          ],
          "surface": [
           {
            "colorbar": {
             "outlinewidth": 0,
             "ticks": ""
            },
            "colorscale": [
             [
              0,
              "#0d0887"
             ],
             [
              0.1111111111111111,
              "#46039f"
             ],
             [
              0.2222222222222222,
              "#7201a8"
             ],
             [
              0.3333333333333333,
              "#9c179e"
             ],
             [
              0.4444444444444444,
              "#bd3786"
             ],
             [
              0.5555555555555556,
              "#d8576b"
             ],
             [
              0.6666666666666666,
              "#ed7953"
             ],
             [
              0.7777777777777778,
              "#fb9f3a"
             ],
             [
              0.8888888888888888,
              "#fdca26"
             ],
             [
              1,
              "#f0f921"
             ]
            ],
            "type": "surface"
           }
          ],
          "table": [
           {
            "cells": {
             "fill": {
              "color": "#EBF0F8"
             },
             "line": {
              "color": "white"
             }
            },
            "header": {
             "fill": {
              "color": "#C8D4E3"
             },
             "line": {
              "color": "white"
             }
            },
            "type": "table"
           }
          ]
         },
         "layout": {
          "annotationdefaults": {
           "arrowcolor": "#2a3f5f",
           "arrowhead": 0,
           "arrowwidth": 1
          },
          "autotypenumbers": "strict",
          "coloraxis": {
           "colorbar": {
            "outlinewidth": 0,
            "ticks": ""
           }
          },
          "colorscale": {
           "diverging": [
            [
             0,
             "#8e0152"
            ],
            [
             0.1,
             "#c51b7d"
            ],
            [
             0.2,
             "#de77ae"
            ],
            [
             0.3,
             "#f1b6da"
            ],
            [
             0.4,
             "#fde0ef"
            ],
            [
             0.5,
             "#f7f7f7"
            ],
            [
             0.6,
             "#e6f5d0"
            ],
            [
             0.7,
             "#b8e186"
            ],
            [
             0.8,
             "#7fbc41"
            ],
            [
             0.9,
             "#4d9221"
            ],
            [
             1,
             "#276419"
            ]
           ],
           "sequential": [
            [
             0,
             "#0d0887"
            ],
            [
             0.1111111111111111,
             "#46039f"
            ],
            [
             0.2222222222222222,
             "#7201a8"
            ],
            [
             0.3333333333333333,
             "#9c179e"
            ],
            [
             0.4444444444444444,
             "#bd3786"
            ],
            [
             0.5555555555555556,
             "#d8576b"
            ],
            [
             0.6666666666666666,
             "#ed7953"
            ],
            [
             0.7777777777777778,
             "#fb9f3a"
            ],
            [
             0.8888888888888888,
             "#fdca26"
            ],
            [
             1,
             "#f0f921"
            ]
           ],
           "sequentialminus": [
            [
             0,
             "#0d0887"
            ],
            [
             0.1111111111111111,
             "#46039f"
            ],
            [
             0.2222222222222222,
             "#7201a8"
            ],
            [
             0.3333333333333333,
             "#9c179e"
            ],
            [
             0.4444444444444444,
             "#bd3786"
            ],
            [
             0.5555555555555556,
             "#d8576b"
            ],
            [
             0.6666666666666666,
             "#ed7953"
            ],
            [
             0.7777777777777778,
             "#fb9f3a"
            ],
            [
             0.8888888888888888,
             "#fdca26"
            ],
            [
             1,
             "#f0f921"
            ]
           ]
          },
          "colorway": [
           "#636efa",
           "#EF553B",
           "#00cc96",
           "#ab63fa",
           "#FFA15A",
           "#19d3f3",
           "#FF6692",
           "#B6E880",
           "#FF97FF",
           "#FECB52"
          ],
          "font": {
           "color": "#2a3f5f"
          },
          "geo": {
           "bgcolor": "white",
           "lakecolor": "white",
           "landcolor": "#E5ECF6",
           "showlakes": true,
           "showland": true,
           "subunitcolor": "white"
          },
          "hoverlabel": {
           "align": "left"
          },
          "hovermode": "closest",
          "mapbox": {
           "style": "light"
          },
          "paper_bgcolor": "white",
          "plot_bgcolor": "#E5ECF6",
          "polar": {
           "angularaxis": {
            "gridcolor": "white",
            "linecolor": "white",
            "ticks": ""
           },
           "bgcolor": "#E5ECF6",
           "radialaxis": {
            "gridcolor": "white",
            "linecolor": "white",
            "ticks": ""
           }
          },
          "scene": {
           "xaxis": {
            "backgroundcolor": "#E5ECF6",
            "gridcolor": "white",
            "gridwidth": 2,
            "linecolor": "white",
            "showbackground": true,
            "ticks": "",
            "zerolinecolor": "white"
           },
           "yaxis": {
            "backgroundcolor": "#E5ECF6",
            "gridcolor": "white",
            "gridwidth": 2,
            "linecolor": "white",
            "showbackground": true,
            "ticks": "",
            "zerolinecolor": "white"
           },
           "zaxis": {
            "backgroundcolor": "#E5ECF6",
            "gridcolor": "white",
            "gridwidth": 2,
            "linecolor": "white",
            "showbackground": true,
            "ticks": "",
            "zerolinecolor": "white"
           }
          },
          "shapedefaults": {
           "line": {
            "color": "#2a3f5f"
           }
          },
          "ternary": {
           "aaxis": {
            "gridcolor": "white",
            "linecolor": "white",
            "ticks": ""
           },
           "baxis": {
            "gridcolor": "white",
            "linecolor": "white",
            "ticks": ""
           },
           "bgcolor": "#E5ECF6",
           "caxis": {
            "gridcolor": "white",
            "linecolor": "white",
            "ticks": ""
           }
          },
          "title": {
           "x": 0.05
          },
          "xaxis": {
           "automargin": true,
           "gridcolor": "white",
           "linecolor": "white",
           "ticks": "",
           "title": {
            "standoff": 15
           },
           "zerolinecolor": "white",
           "zerolinewidth": 2
          },
          "yaxis": {
           "automargin": true,
           "gridcolor": "white",
           "linecolor": "white",
           "ticks": "",
           "title": {
            "standoff": 15
           },
           "zerolinecolor": "white",
           "zerolinewidth": 2
          }
         }
        },
        "title": {
         "text": "Average proportion to the reference's distances"
        },
        "xaxis": {
         "anchor": "y",
         "domain": [
          0,
          1
         ],
         "title": {
          "text": "Number of generated references"
         }
        },
        "yaxis": {
         "anchor": "x",
         "domain": [
          0,
          1
         ],
         "title": {
          "text": "Proportion"
         }
        }
       }
      }
     },
     "metadata": {},
     "output_type": "display_data"
    }
   ],
   "source": [
    "df = report.groupby(['family', 'algo', 'algorithm', 'i_generated']).mean()\n",
    "df = df.loc[:, :, 'heuristic', :]\n",
    "df['proportion'] = df['distance'] / df['reference_distance']\n",
    "df = df['proportion']\n",
    "df = df.groupby(level=[1, 2]).agg([np.mean, np.std])\n",
    "\n",
    "#############################################\n",
    "\n",
    "fig = px.bar(df.reset_index(), x=\"i_generated\", y=\"mean\",\n",
    "             color='algo', barmode='group', error_y=\"std\",\n",
    "             height=400)\n",
    "\n",
    "fig.for_each_trace(lambda t: t.update(name=algo_name.get(t.name, t.name)))\n",
    "\n",
    "fig.update_layout(xaxis_title='Number of generated references', title=\"Average proportion to the reference's distances\",\n",
    "                  yaxis_title=\"Proportion\", legend_title='Heuristic algorithm')\n",
    "fig.show()"
   ]
  },
  {
   "cell_type": "markdown",
   "metadata": {},
   "source": [
    "# Mean execution time"
   ]
  },
  {
   "cell_type": "code",
   "execution_count": 83,
   "metadata": {},
   "outputs": [
    {
     "data": {
      "application/vnd.plotly.v1+json": {
       "config": {
        "plotlyServerURL": "https://plot.ly"
       },
       "data": [
        {
         "alignmentgroup": "True",
         "error_y": {
          "array": [
           1.276308194196154,
           0.4003006619358842,
           0.13618983748847283,
           0.0318450233259043,
           0.2538404537994241,
           0.08019033521698175,
           null,
           null
          ]
         },
         "hovertemplate": "algo=basin_hopping<br>i_generated=%{x}<br>mean=%{y}<extra></extra>",
         "legendgroup": "basin_hopping",
         "marker": {
          "color": "#636efa",
          "pattern": {
           "shape": ""
          }
         },
         "name": "Basinhopping",
         "offsetgroup": "basin_hopping",
         "orientation": "v",
         "showlegend": true,
         "textposition": "auto",
         "type": "bar",
         "x": [
          0,
          1,
          2,
          3,
          4,
          5,
          6,
          7
         ],
         "xaxis": "x",
         "y": [
          3.2971447471999418,
          2.6935176209316696,
          2.1851293616832077,
          2.245135279840775,
          2.4290710579482937,
          2.402195895476528,
          2.4534413012499954,
          2.6982077533763023
         ],
         "yaxis": "y"
        },
        {
         "alignmentgroup": "True",
         "error_y": {
          "array": [
           0.9403642339034181,
           0.49535918938075635,
           0.8942362930841418,
           1.0338576703296716,
           0.9564711279734063,
           0.8491029506018258,
           0.3123834765262409,
           0.3952873036037508
          ]
         },
         "hovertemplate": "algo=basin_hopping_step<br>i_generated=%{x}<br>mean=%{y}<extra></extra>",
         "legendgroup": "basin_hopping_step",
         "marker": {
          "color": "#EF553B",
          "pattern": {
           "shape": ""
          }
         },
         "name": "Basinhopping step",
         "offsetgroup": "basin_hopping_step",
         "orientation": "v",
         "showlegend": true,
         "textposition": "auto",
         "type": "bar",
         "x": [
          0,
          1,
          2,
          3,
          4,
          5,
          6,
          7
         ],
         "xaxis": "x",
         "y": [
          4.636208920798669,
          3.7508833738954195,
          3.9312800529056324,
          4.117793689270019,
          4.355358823090664,
          4.001338597764783,
          4.788061574911238,
          3.4607906203159025
         ],
         "yaxis": "y"
        },
        {
         "alignmentgroup": "True",
         "error_y": {
          "array": [
           0.024416739337430538,
           0.014613151650802356,
           0.039163446617397346,
           0.05836608429841982,
           0.0067497104079355255,
           0.013494558012429145,
           0.014986543901992397,
           null
          ]
         },
         "hovertemplate": "algo=greedy_dp<br>i_generated=%{x}<br>mean=%{y}<extra></extra>",
         "legendgroup": "greedy_dp",
         "marker": {
          "color": "#00cc96",
          "pattern": {
           "shape": ""
          }
         },
         "name": "Gredy DP",
         "offsetgroup": "greedy_dp",
         "orientation": "v",
         "showlegend": true,
         "textposition": "auto",
         "type": "bar",
         "x": [
          0,
          1,
          2,
          3,
          4,
          5,
          6,
          7
         ],
         "xaxis": "x",
         "y": [
          0.06364918541619541,
          0.0875631353042012,
          0.07749181417624311,
          0.1073653494520791,
          0.08821622299929001,
          0.09160795771998886,
          0.0756299017641544,
          0.07138228165218602
         ],
         "yaxis": "y"
        },
        {
         "alignmentgroup": "True",
         "error_y": {
          "array": [
           1.7023125404376798,
           3.8286320977184394,
           5.9896101782686335,
           13.3686996166007,
           3.2197829310235986,
           5.318461272236825,
           14.510728661135605,
           26.8453207164615
          ]
         },
         "hovertemplate": "algo=pairs<br>i_generated=%{x}<br>mean=%{y}<extra></extra>",
         "legendgroup": "pairs",
         "marker": {
          "color": "#ab63fa",
          "pattern": {
           "shape": ""
          }
         },
         "name": "Pairs",
         "offsetgroup": "pairs",
         "orientation": "v",
         "showlegend": true,
         "textposition": "auto",
         "type": "bar",
         "x": [
          0,
          1,
          2,
          3,
          4,
          5,
          6,
          7
         ],
         "xaxis": "x",
         "y": [
          5.53428862652132,
          6.95274716517346,
          8.350510107390999,
          14.646859069859216,
          11.079102141131367,
          12.74745097434932,
          20.04386613914451,
          46.72849410262082
         ],
         "yaxis": "y"
        }
       ],
       "layout": {
        "barmode": "group",
        "height": 400,
        "legend": {
         "title": {
          "text": "Heuristic algorithm"
         },
         "tracegroupgap": 0
        },
        "margin": {
         "t": 60
        },
        "template": {
         "data": {
          "bar": [
           {
            "error_x": {
             "color": "#2a3f5f"
            },
            "error_y": {
             "color": "#2a3f5f"
            },
            "marker": {
             "line": {
              "color": "#E5ECF6",
              "width": 0.5
             },
             "pattern": {
              "fillmode": "overlay",
              "size": 10,
              "solidity": 0.2
             }
            },
            "type": "bar"
           }
          ],
          "barpolar": [
           {
            "marker": {
             "line": {
              "color": "#E5ECF6",
              "width": 0.5
             },
             "pattern": {
              "fillmode": "overlay",
              "size": 10,
              "solidity": 0.2
             }
            },
            "type": "barpolar"
           }
          ],
          "carpet": [
           {
            "aaxis": {
             "endlinecolor": "#2a3f5f",
             "gridcolor": "white",
             "linecolor": "white",
             "minorgridcolor": "white",
             "startlinecolor": "#2a3f5f"
            },
            "baxis": {
             "endlinecolor": "#2a3f5f",
             "gridcolor": "white",
             "linecolor": "white",
             "minorgridcolor": "white",
             "startlinecolor": "#2a3f5f"
            },
            "type": "carpet"
           }
          ],
          "choropleth": [
           {
            "colorbar": {
             "outlinewidth": 0,
             "ticks": ""
            },
            "type": "choropleth"
           }
          ],
          "contour": [
           {
            "colorbar": {
             "outlinewidth": 0,
             "ticks": ""
            },
            "colorscale": [
             [
              0,
              "#0d0887"
             ],
             [
              0.1111111111111111,
              "#46039f"
             ],
             [
              0.2222222222222222,
              "#7201a8"
             ],
             [
              0.3333333333333333,
              "#9c179e"
             ],
             [
              0.4444444444444444,
              "#bd3786"
             ],
             [
              0.5555555555555556,
              "#d8576b"
             ],
             [
              0.6666666666666666,
              "#ed7953"
             ],
             [
              0.7777777777777778,
              "#fb9f3a"
             ],
             [
              0.8888888888888888,
              "#fdca26"
             ],
             [
              1,
              "#f0f921"
             ]
            ],
            "type": "contour"
           }
          ],
          "contourcarpet": [
           {
            "colorbar": {
             "outlinewidth": 0,
             "ticks": ""
            },
            "type": "contourcarpet"
           }
          ],
          "heatmap": [
           {
            "colorbar": {
             "outlinewidth": 0,
             "ticks": ""
            },
            "colorscale": [
             [
              0,
              "#0d0887"
             ],
             [
              0.1111111111111111,
              "#46039f"
             ],
             [
              0.2222222222222222,
              "#7201a8"
             ],
             [
              0.3333333333333333,
              "#9c179e"
             ],
             [
              0.4444444444444444,
              "#bd3786"
             ],
             [
              0.5555555555555556,
              "#d8576b"
             ],
             [
              0.6666666666666666,
              "#ed7953"
             ],
             [
              0.7777777777777778,
              "#fb9f3a"
             ],
             [
              0.8888888888888888,
              "#fdca26"
             ],
             [
              1,
              "#f0f921"
             ]
            ],
            "type": "heatmap"
           }
          ],
          "heatmapgl": [
           {
            "colorbar": {
             "outlinewidth": 0,
             "ticks": ""
            },
            "colorscale": [
             [
              0,
              "#0d0887"
             ],
             [
              0.1111111111111111,
              "#46039f"
             ],
             [
              0.2222222222222222,
              "#7201a8"
             ],
             [
              0.3333333333333333,
              "#9c179e"
             ],
             [
              0.4444444444444444,
              "#bd3786"
             ],
             [
              0.5555555555555556,
              "#d8576b"
             ],
             [
              0.6666666666666666,
              "#ed7953"
             ],
             [
              0.7777777777777778,
              "#fb9f3a"
             ],
             [
              0.8888888888888888,
              "#fdca26"
             ],
             [
              1,
              "#f0f921"
             ]
            ],
            "type": "heatmapgl"
           }
          ],
          "histogram": [
           {
            "marker": {
             "pattern": {
              "fillmode": "overlay",
              "size": 10,
              "solidity": 0.2
             }
            },
            "type": "histogram"
           }
          ],
          "histogram2d": [
           {
            "colorbar": {
             "outlinewidth": 0,
             "ticks": ""
            },
            "colorscale": [
             [
              0,
              "#0d0887"
             ],
             [
              0.1111111111111111,
              "#46039f"
             ],
             [
              0.2222222222222222,
              "#7201a8"
             ],
             [
              0.3333333333333333,
              "#9c179e"
             ],
             [
              0.4444444444444444,
              "#bd3786"
             ],
             [
              0.5555555555555556,
              "#d8576b"
             ],
             [
              0.6666666666666666,
              "#ed7953"
             ],
             [
              0.7777777777777778,
              "#fb9f3a"
             ],
             [
              0.8888888888888888,
              "#fdca26"
             ],
             [
              1,
              "#f0f921"
             ]
            ],
            "type": "histogram2d"
           }
          ],
          "histogram2dcontour": [
           {
            "colorbar": {
             "outlinewidth": 0,
             "ticks": ""
            },
            "colorscale": [
             [
              0,
              "#0d0887"
             ],
             [
              0.1111111111111111,
              "#46039f"
             ],
             [
              0.2222222222222222,
              "#7201a8"
             ],
             [
              0.3333333333333333,
              "#9c179e"
             ],
             [
              0.4444444444444444,
              "#bd3786"
             ],
             [
              0.5555555555555556,
              "#d8576b"
             ],
             [
              0.6666666666666666,
              "#ed7953"
             ],
             [
              0.7777777777777778,
              "#fb9f3a"
             ],
             [
              0.8888888888888888,
              "#fdca26"
             ],
             [
              1,
              "#f0f921"
             ]
            ],
            "type": "histogram2dcontour"
           }
          ],
          "mesh3d": [
           {
            "colorbar": {
             "outlinewidth": 0,
             "ticks": ""
            },
            "type": "mesh3d"
           }
          ],
          "parcoords": [
           {
            "line": {
             "colorbar": {
              "outlinewidth": 0,
              "ticks": ""
             }
            },
            "type": "parcoords"
           }
          ],
          "pie": [
           {
            "automargin": true,
            "type": "pie"
           }
          ],
          "scatter": [
           {
            "fillpattern": {
             "fillmode": "overlay",
             "size": 10,
             "solidity": 0.2
            },
            "type": "scatter"
           }
          ],
          "scatter3d": [
           {
            "line": {
             "colorbar": {
              "outlinewidth": 0,
              "ticks": ""
             }
            },
            "marker": {
             "colorbar": {
              "outlinewidth": 0,
              "ticks": ""
             }
            },
            "type": "scatter3d"
           }
          ],
          "scattercarpet": [
           {
            "marker": {
             "colorbar": {
              "outlinewidth": 0,
              "ticks": ""
             }
            },
            "type": "scattercarpet"
           }
          ],
          "scattergeo": [
           {
            "marker": {
             "colorbar": {
              "outlinewidth": 0,
              "ticks": ""
             }
            },
            "type": "scattergeo"
           }
          ],
          "scattergl": [
           {
            "marker": {
             "colorbar": {
              "outlinewidth": 0,
              "ticks": ""
             }
            },
            "type": "scattergl"
           }
          ],
          "scattermapbox": [
           {
            "marker": {
             "colorbar": {
              "outlinewidth": 0,
              "ticks": ""
             }
            },
            "type": "scattermapbox"
           }
          ],
          "scatterpolar": [
           {
            "marker": {
             "colorbar": {
              "outlinewidth": 0,
              "ticks": ""
             }
            },
            "type": "scatterpolar"
           }
          ],
          "scatterpolargl": [
           {
            "marker": {
             "colorbar": {
              "outlinewidth": 0,
              "ticks": ""
             }
            },
            "type": "scatterpolargl"
           }
          ],
          "scatterternary": [
           {
            "marker": {
             "colorbar": {
              "outlinewidth": 0,
              "ticks": ""
             }
            },
            "type": "scatterternary"
           }
          ],
          "surface": [
           {
            "colorbar": {
             "outlinewidth": 0,
             "ticks": ""
            },
            "colorscale": [
             [
              0,
              "#0d0887"
             ],
             [
              0.1111111111111111,
              "#46039f"
             ],
             [
              0.2222222222222222,
              "#7201a8"
             ],
             [
              0.3333333333333333,
              "#9c179e"
             ],
             [
              0.4444444444444444,
              "#bd3786"
             ],
             [
              0.5555555555555556,
              "#d8576b"
             ],
             [
              0.6666666666666666,
              "#ed7953"
             ],
             [
              0.7777777777777778,
              "#fb9f3a"
             ],
             [
              0.8888888888888888,
              "#fdca26"
             ],
             [
              1,
              "#f0f921"
             ]
            ],
            "type": "surface"
           }
          ],
          "table": [
           {
            "cells": {
             "fill": {
              "color": "#EBF0F8"
             },
             "line": {
              "color": "white"
             }
            },
            "header": {
             "fill": {
              "color": "#C8D4E3"
             },
             "line": {
              "color": "white"
             }
            },
            "type": "table"
           }
          ]
         },
         "layout": {
          "annotationdefaults": {
           "arrowcolor": "#2a3f5f",
           "arrowhead": 0,
           "arrowwidth": 1
          },
          "autotypenumbers": "strict",
          "coloraxis": {
           "colorbar": {
            "outlinewidth": 0,
            "ticks": ""
           }
          },
          "colorscale": {
           "diverging": [
            [
             0,
             "#8e0152"
            ],
            [
             0.1,
             "#c51b7d"
            ],
            [
             0.2,
             "#de77ae"
            ],
            [
             0.3,
             "#f1b6da"
            ],
            [
             0.4,
             "#fde0ef"
            ],
            [
             0.5,
             "#f7f7f7"
            ],
            [
             0.6,
             "#e6f5d0"
            ],
            [
             0.7,
             "#b8e186"
            ],
            [
             0.8,
             "#7fbc41"
            ],
            [
             0.9,
             "#4d9221"
            ],
            [
             1,
             "#276419"
            ]
           ],
           "sequential": [
            [
             0,
             "#0d0887"
            ],
            [
             0.1111111111111111,
             "#46039f"
            ],
            [
             0.2222222222222222,
             "#7201a8"
            ],
            [
             0.3333333333333333,
             "#9c179e"
            ],
            [
             0.4444444444444444,
             "#bd3786"
            ],
            [
             0.5555555555555556,
             "#d8576b"
            ],
            [
             0.6666666666666666,
             "#ed7953"
            ],
            [
             0.7777777777777778,
             "#fb9f3a"
            ],
            [
             0.8888888888888888,
             "#fdca26"
            ],
            [
             1,
             "#f0f921"
            ]
           ],
           "sequentialminus": [
            [
             0,
             "#0d0887"
            ],
            [
             0.1111111111111111,
             "#46039f"
            ],
            [
             0.2222222222222222,
             "#7201a8"
            ],
            [
             0.3333333333333333,
             "#9c179e"
            ],
            [
             0.4444444444444444,
             "#bd3786"
            ],
            [
             0.5555555555555556,
             "#d8576b"
            ],
            [
             0.6666666666666666,
             "#ed7953"
            ],
            [
             0.7777777777777778,
             "#fb9f3a"
            ],
            [
             0.8888888888888888,
             "#fdca26"
            ],
            [
             1,
             "#f0f921"
            ]
           ]
          },
          "colorway": [
           "#636efa",
           "#EF553B",
           "#00cc96",
           "#ab63fa",
           "#FFA15A",
           "#19d3f3",
           "#FF6692",
           "#B6E880",
           "#FF97FF",
           "#FECB52"
          ],
          "font": {
           "color": "#2a3f5f"
          },
          "geo": {
           "bgcolor": "white",
           "lakecolor": "white",
           "landcolor": "#E5ECF6",
           "showlakes": true,
           "showland": true,
           "subunitcolor": "white"
          },
          "hoverlabel": {
           "align": "left"
          },
          "hovermode": "closest",
          "mapbox": {
           "style": "light"
          },
          "paper_bgcolor": "white",
          "plot_bgcolor": "#E5ECF6",
          "polar": {
           "angularaxis": {
            "gridcolor": "white",
            "linecolor": "white",
            "ticks": ""
           },
           "bgcolor": "#E5ECF6",
           "radialaxis": {
            "gridcolor": "white",
            "linecolor": "white",
            "ticks": ""
           }
          },
          "scene": {
           "xaxis": {
            "backgroundcolor": "#E5ECF6",
            "gridcolor": "white",
            "gridwidth": 2,
            "linecolor": "white",
            "showbackground": true,
            "ticks": "",
            "zerolinecolor": "white"
           },
           "yaxis": {
            "backgroundcolor": "#E5ECF6",
            "gridcolor": "white",
            "gridwidth": 2,
            "linecolor": "white",
            "showbackground": true,
            "ticks": "",
            "zerolinecolor": "white"
           },
           "zaxis": {
            "backgroundcolor": "#E5ECF6",
            "gridcolor": "white",
            "gridwidth": 2,
            "linecolor": "white",
            "showbackground": true,
            "ticks": "",
            "zerolinecolor": "white"
           }
          },
          "shapedefaults": {
           "line": {
            "color": "#2a3f5f"
           }
          },
          "ternary": {
           "aaxis": {
            "gridcolor": "white",
            "linecolor": "white",
            "ticks": ""
           },
           "baxis": {
            "gridcolor": "white",
            "linecolor": "white",
            "ticks": ""
           },
           "bgcolor": "#E5ECF6",
           "caxis": {
            "gridcolor": "white",
            "linecolor": "white",
            "ticks": ""
           }
          },
          "title": {
           "x": 0.05
          },
          "xaxis": {
           "automargin": true,
           "gridcolor": "white",
           "linecolor": "white",
           "ticks": "",
           "title": {
            "standoff": 15
           },
           "zerolinecolor": "white",
           "zerolinewidth": 2
          },
          "yaxis": {
           "automargin": true,
           "gridcolor": "white",
           "linecolor": "white",
           "ticks": "",
           "title": {
            "standoff": 15
           },
           "zerolinecolor": "white",
           "zerolinewidth": 2
          }
         }
        },
        "title": {
         "text": "Average execution time of heuristics"
        },
        "xaxis": {
         "anchor": "y",
         "domain": [
          0,
          1
         ],
         "title": {
          "text": "Number of generated references"
         }
        },
        "yaxis": {
         "anchor": "x",
         "domain": [
          0,
          1
         ],
         "title": {
          "text": "Time (s)"
         }
        }
       }
      }
     },
     "metadata": {},
     "output_type": "display_data"
    }
   ],
   "source": [
    "df = report.groupby(['family', 'algo', 'algorithm', 'i_generated']).mean()\n",
    "df = df.loc[:, :, 'heuristic', :]\n",
    "df = df['dt']\n",
    "df = df.groupby(level=[1, 2]).agg([np.mean, np.std])\n",
    "\n",
    "####################################\n",
    "\n",
    "fig = px.bar(df.reset_index(), x=\"i_generated\", y=\"mean\",\n",
    "             color='algo', barmode='group',error_y=\"std\",\n",
    "             height=400)\n",
    "fig.for_each_trace(lambda t: t.update(name=algo_name.get(t.name, t.name)))\n",
    "\n",
    "fig.update_layout(xaxis_title='Number of generated references', legend_title='Heuristic algorithm', \n",
    "                  title=\"Average execution time of heuristics\", yaxis_title=\"Time (s)\")\n",
    "\n",
    "fig.show()"
   ]
  },
  {
   "cell_type": "code",
   "execution_count": 22,
   "metadata": {},
   "outputs": [
    {
     "data": {
      "text/html": [
       "<div>\n",
       "<style scoped>\n",
       "    .dataframe tbody tr th:only-of-type {\n",
       "        vertical-align: middle;\n",
       "    }\n",
       "\n",
       "    .dataframe tbody tr th {\n",
       "        vertical-align: top;\n",
       "    }\n",
       "\n",
       "    .dataframe thead th {\n",
       "        text-align: right;\n",
       "    }\n",
       "</style>\n",
       "<table border=\"1\" class=\"dataframe\">\n",
       "  <thead>\n",
       "    <tr style=\"text-align: right;\">\n",
       "      <th></th>\n",
       "      <th>i_generated</th>\n",
       "      <th>distance</th>\n",
       "      <th>reference_distance</th>\n",
       "      <th>i_heuristic</th>\n",
       "      <th>i_trial</th>\n",
       "      <th>dt</th>\n",
       "      <th>algorithm</th>\n",
       "      <th>family</th>\n",
       "      <th>algo</th>\n",
       "    </tr>\n",
       "  </thead>\n",
       "  <tbody>\n",
       "    <tr>\n",
       "      <th>0</th>\n",
       "      <td>0</td>\n",
       "      <td>392</td>\n",
       "      <td>392</td>\n",
       "      <td>-1</td>\n",
       "      <td>-1</td>\n",
       "      <td>10421.071099</td>\n",
       "      <td>reference</td>\n",
       "      <td>noise</td>\n",
       "      <td>basin_hopping_step</td>\n",
       "    </tr>\n",
       "    <tr>\n",
       "      <th>1</th>\n",
       "      <td>0</td>\n",
       "      <td>265</td>\n",
       "      <td>392</td>\n",
       "      <td>0</td>\n",
       "      <td>0</td>\n",
       "      <td>3.863435</td>\n",
       "      <td>heuristic</td>\n",
       "      <td>noise</td>\n",
       "      <td>basin_hopping_step</td>\n",
       "    </tr>\n",
       "    <tr>\n",
       "      <th>2</th>\n",
       "      <td>0</td>\n",
       "      <td>265</td>\n",
       "      <td>392</td>\n",
       "      <td>0</td>\n",
       "      <td>1</td>\n",
       "      <td>4.624301</td>\n",
       "      <td>heuristic</td>\n",
       "      <td>noise</td>\n",
       "      <td>basin_hopping_step</td>\n",
       "    </tr>\n",
       "    <tr>\n",
       "      <th>3</th>\n",
       "      <td>0</td>\n",
       "      <td>265</td>\n",
       "      <td>392</td>\n",
       "      <td>0</td>\n",
       "      <td>2</td>\n",
       "      <td>4.689702</td>\n",
       "      <td>heuristic</td>\n",
       "      <td>noise</td>\n",
       "      <td>basin_hopping_step</td>\n",
       "    </tr>\n",
       "    <tr>\n",
       "      <th>4</th>\n",
       "      <td>0</td>\n",
       "      <td>262</td>\n",
       "      <td>392</td>\n",
       "      <td>0</td>\n",
       "      <td>3</td>\n",
       "      <td>4.711662</td>\n",
       "      <td>heuristic</td>\n",
       "      <td>noise</td>\n",
       "      <td>basin_hopping_step</td>\n",
       "    </tr>\n",
       "    <tr>\n",
       "      <th>...</th>\n",
       "      <td>...</td>\n",
       "      <td>...</td>\n",
       "      <td>...</td>\n",
       "      <td>...</td>\n",
       "      <td>...</td>\n",
       "      <td>...</td>\n",
       "      <td>...</td>\n",
       "      <td>...</td>\n",
       "      <td>...</td>\n",
       "    </tr>\n",
       "    <tr>\n",
       "      <th>1583</th>\n",
       "      <td>7</td>\n",
       "      <td>106</td>\n",
       "      <td>324</td>\n",
       "      <td>115</td>\n",
       "      <td>9</td>\n",
       "      <td>93.764555</td>\n",
       "      <td>heuristic</td>\n",
       "      <td>resampling</td>\n",
       "      <td>pairs</td>\n",
       "    </tr>\n",
       "    <tr>\n",
       "      <th>1584</th>\n",
       "      <td>7</td>\n",
       "      <td>81</td>\n",
       "      <td>324</td>\n",
       "      <td>116</td>\n",
       "      <td>9</td>\n",
       "      <td>96.561834</td>\n",
       "      <td>heuristic</td>\n",
       "      <td>resampling</td>\n",
       "      <td>pairs</td>\n",
       "    </tr>\n",
       "    <tr>\n",
       "      <th>1585</th>\n",
       "      <td>7</td>\n",
       "      <td>55</td>\n",
       "      <td>324</td>\n",
       "      <td>117</td>\n",
       "      <td>9</td>\n",
       "      <td>101.178422</td>\n",
       "      <td>heuristic</td>\n",
       "      <td>resampling</td>\n",
       "      <td>pairs</td>\n",
       "    </tr>\n",
       "    <tr>\n",
       "      <th>1586</th>\n",
       "      <td>7</td>\n",
       "      <td>55</td>\n",
       "      <td>324</td>\n",
       "      <td>118</td>\n",
       "      <td>9</td>\n",
       "      <td>95.819654</td>\n",
       "      <td>heuristic</td>\n",
       "      <td>resampling</td>\n",
       "      <td>pairs</td>\n",
       "    </tr>\n",
       "    <tr>\n",
       "      <th>1587</th>\n",
       "      <td>7</td>\n",
       "      <td>140</td>\n",
       "      <td>324</td>\n",
       "      <td>119</td>\n",
       "      <td>9</td>\n",
       "      <td>99.865376</td>\n",
       "      <td>heuristic</td>\n",
       "      <td>resampling</td>\n",
       "      <td>pairs</td>\n",
       "    </tr>\n",
       "  </tbody>\n",
       "</table>\n",
       "<p>9955 rows × 9 columns</p>\n",
       "</div>"
      ],
      "text/plain": [
       "      i_generated  distance  reference_distance  i_heuristic  i_trial  \\\n",
       "0               0       392                 392           -1       -1   \n",
       "1               0       265                 392            0        0   \n",
       "2               0       265                 392            0        1   \n",
       "3               0       265                 392            0        2   \n",
       "4               0       262                 392            0        3   \n",
       "...           ...       ...                 ...          ...      ...   \n",
       "1583            7       106                 324          115        9   \n",
       "1584            7        81                 324          116        9   \n",
       "1585            7        55                 324          117        9   \n",
       "1586            7        55                 324          118        9   \n",
       "1587            7       140                 324          119        9   \n",
       "\n",
       "                dt  algorithm      family                algo  \n",
       "0     10421.071099  reference       noise  basin_hopping_step  \n",
       "1         3.863435  heuristic       noise  basin_hopping_step  \n",
       "2         4.624301  heuristic       noise  basin_hopping_step  \n",
       "3         4.689702  heuristic       noise  basin_hopping_step  \n",
       "4         4.711662  heuristic       noise  basin_hopping_step  \n",
       "...            ...        ...         ...                 ...  \n",
       "1583     93.764555  heuristic  resampling               pairs  \n",
       "1584     96.561834  heuristic  resampling               pairs  \n",
       "1585    101.178422  heuristic  resampling               pairs  \n",
       "1586     95.819654  heuristic  resampling               pairs  \n",
       "1587     99.865376  heuristic  resampling               pairs  \n",
       "\n",
       "[9955 rows x 9 columns]"
      ]
     },
     "execution_count": 22,
     "metadata": {},
     "output_type": "execute_result"
    }
   ],
   "source": [
    "report"
   ]
  },
  {
   "cell_type": "code",
   "execution_count": null,
   "metadata": {},
   "outputs": [],
   "source": [
    "df = report.groupby(['family', 'algo', 'algorithm', 'i_generated', 'i_trial']).max()\n",
    "df = df.loc[:, :, 'heuristic', :]\n",
    "df = df['dt']\n",
    "df = df.groupby(level=[1, 2]).agg([np.mean, np.std])\n",
    "\n",
    "df"
   ]
  }
 ],
 "metadata": {
  "kernelspec": {
   "display_name": "ml",
   "language": "python",
   "name": "python3"
  },
  "language_info": {
   "codemirror_mode": {
    "name": "ipython",
    "version": 3
   },
   "file_extension": ".py",
   "mimetype": "text/x-python",
   "name": "python",
   "nbconvert_exporter": "python",
   "pygments_lexer": "ipython3",
   "version": "3.11.5"
  }
 },
 "nbformat": 4,
 "nbformat_minor": 2
}
